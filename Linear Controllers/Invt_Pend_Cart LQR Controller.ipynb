{
  "nbformat": 4,
  "nbformat_minor": 0,
  "metadata": {
    "colab": {
      "name": "Invt_Pend_Cart.ipynb",
      "provenance": [],
      "collapsed_sections": [],
      "include_colab_link": true
    },
    "kernelspec": {
      "name": "python3",
      "display_name": "Python 3"
    },
    "language_info": {
      "name": "python"
    }
  },
  "cells": [
    {
      "cell_type": "markdown",
      "metadata": {
        "id": "view-in-github",
        "colab_type": "text"
      },
      "source": [
        "<a href=\"https://colab.research.google.com/github/S-EGK/Contollers/blob/main/Invt_Pend_Cart%20LQR%20Controller.ipynb\" target=\"_parent\"><img src=\"https://colab.research.google.com/assets/colab-badge.svg\" alt=\"Open In Colab\"/></a>"
      ]
    },
    {
      "cell_type": "code",
      "metadata": {
        "id": "fJdYY-FakCRk"
      },
      "source": [
        "# importing libraries\n",
        "from math import cos, sin\n",
        "import numpy as np\n",
        "from random import random\n",
        "import scipy.signal as signal\n",
        "import scipy.linalg as linalg\n",
        "from mpl_toolkits.mplot3d import Axes3D\n",
        "from scipy.integrate import solve_ivp\n",
        "import matplotlib.pyplot as plt\n",
        "from matplotlib import animation\n",
        "from matplotlib.patches import Circle"
      ],
      "execution_count": null,
      "outputs": []
    },
    {
      "cell_type": "code",
      "metadata": {
        "id": "ngEtr-sa4drN"
      },
      "source": [
        "# Simulation Parameters\n",
        "dt = 0.1\n",
        "Tfinal = 10\n",
        "Ts = dt\n",
        "Tsteps = Tfinal/Ts # number of frames\n",
        "frames = int(Tsteps)"
      ],
      "execution_count": null,
      "outputs": []
    },
    {
      "cell_type": "code",
      "metadata": {
        "id": "B_6_IcKQkKF5"
      },
      "source": [
        "# Paramters\n",
        "m = 0.1\n",
        "M = 1\n",
        "l = 1\n",
        "g = 9.8\n",
        "k = 1\n",
        "R = 100\n",
        "r = 0.02\n",
        "f = 0\n",
        "\n",
        "# Initial Conditions\n",
        "x = 0\n",
        "x_dot = 5\n",
        "theta = 1\n",
        "theta_dot = 0\n",
        "states = np.array([x, x_dot, theta, theta_dot])\n",
        "\n",
        "# Data Collection for Trajectories and Plots\n",
        "x_data = []\n",
        "x_dot_data = []\n",
        "theta_data = []\n",
        "theta_dot_data = []\n",
        "f_data = []\n",
        "\n",
        "# Simulation Parameters\n",
        "dt = 0.1\n",
        "Tfinal = 10\n",
        "Ts = dt\n",
        "Tsteps = Tfinal/Ts # number of frames\n",
        "frames = int(Tsteps)\n",
        "\n",
        "# A, B, Q, R, K matrix\n",
        "A = np.array([[0,                 1,               0, 0],\n",
        "              [0,  (-k*k)/(M*r*r*R),        (-m*g)/M, 0],\n",
        "              [0,                 0,               0, 1],\n",
        "              [0, (k*k)/(M*r*r*R*l), ((M+m)*g)/(M*l), 0]])\n",
        "\n",
        "B = np.array([[0], [k/(M*r*R)], [0], [-k/(M*r*R*l)]])\n",
        "\n",
        "Q = np.array([[10**4, 0, 0 , 0],\n",
        "              [0, 0, 0, 0],\n",
        "              [0, 0, 3000, 0],\n",
        "              [0, 0, 0, 0]])\n",
        "\n",
        "R1 = [[0.1]]\n",
        "\n",
        "P = np.matrix(linalg.solve_continuous_are(A, B, Q, R1))\n",
        "K = np.matrix(linalg.inv(R1)*(B.T*P))\n",
        "\n",
        "eigVal, eigVec = linalg.eig(A-B*K)\n",
        "\n",
        "# Animation Paramaters\n",
        "sT = np.sin(theta)\n",
        "cT = np.cos(theta)\n",
        "w = 1\n",
        "\n",
        "rod_x = [x, x+l*sT]\n",
        "rod_y = [0, l*cT]\n",
        "\n",
        "fig = plt.figure(figsize = (10,3))\n",
        "ax1 = plt.subplot(1,1,1)\n",
        "ax1.set_xlim((-10,10))\n",
        "ax1.set_ylim((-3,3))\n",
        "ax1.set_xlabel('X-Axis')\n",
        "ax1.set_ylabel('Y-Axis')\n",
        "ax1.set_title('Pendulum-Cart System')\n",
        "\n",
        "rod, = ax1.plot(rod_x, rod_y, 'b', lw = 2)\n",
        "bob, = ax1.plot(x+l*sT, l*cT, 'g', marker = 'o', ms = 10)\n",
        "\n",
        "p1 = [x+w/2, 0]\n",
        "p2 = [x+w/2, -w]\n",
        "p3 = [x-w/2, -w]\n",
        "p4 = [x-w/2, 0]\n",
        "\n",
        "cart_x = [p1[0], p2[0], p3[0], p4[0], p1[0]]\n",
        "cart_y = [p1[1], p2[1], p3[1], p4[1], p1[1]]\n",
        "\n",
        "cart, = ax1.plot(cart_x, cart_y, 'r', lw = 2)\n",
        "\n",
        "x_data.append(states[0])\n",
        "x_dot_data.append(states[1])\n",
        "theta_data.append(states[2])\n",
        "theta_dot_data.append(states[3])\n",
        "f_data.append(f)\n",
        "\n",
        "traj, = ax1.plot(x_data, 0, 'y:', lw = 1)\n",
        "traj1, = ax1.plot(x_data+l*np.sin(theta_data), l*np.cos(theta_data), 'k:', lw = 1)"
      ],
      "execution_count": null,
      "outputs": []
    },
    {
      "cell_type": "code",
      "metadata": {
        "id": "ni97Ch7ryoN5"
      },
      "source": [
        "# Animator Functions\n",
        "def rodPoints(x, l, theta):\n",
        "  sT = np.sin(theta)\n",
        "  cT = np.cos(theta)\n",
        "\n",
        "  rod_x = [x, x+l*sT]\n",
        "  rod_y = [0, l*cT]\n",
        "\n",
        "  return [rod_x, rod_y]\n",
        "\n",
        "def bobPoints(x, l, theta):\n",
        "  sT = np.sin(theta)\n",
        "  cT = np.cos(theta)\n",
        "\n",
        "  bob_x, bob_y = x+l*sT, l*cT\n",
        "\n",
        "  return [bob_x, bob_y]\n",
        "\n",
        "def cartPoints(x):\n",
        "  w = 1\n",
        "  p1 = [x+w/2, 0]\n",
        "  p2 = [x+w/2, -w]\n",
        "  p3 = [x-w/2, -w]\n",
        "  p4 = [x-w/2, 0]\n",
        "\n",
        "  cart_x = [p1[0], p2[0], p3[0], p4[0], p1[0]]\n",
        "  cart_y = [p1[1], p2[1], p3[1], p4[1], p1[1]]\n",
        "\n",
        "  return [cart_x, cart_y]"
      ],
      "execution_count": null,
      "outputs": []
    },
    {
      "cell_type": "code",
      "metadata": {
        "id": "WilUDVG2RaB3"
      },
      "source": [
        "# Dynamics\n",
        "def dyna_pencart(t,y,f):\n",
        "  x = y[0]\n",
        "  x_dot = y[1]\n",
        "  theta = y[2]\n",
        "  theta_dot = y[3]\n",
        "\n",
        "  x_ddot = (k*f)/(M*R*r) - (k*k*x_dot)/(M*r*r*R) - (m*g*theta)/M\n",
        "  theta_ddot = ((m+M)*g*theta)/(M*l) + (k*k*x_dot)/(M*r*r*R*l) - (k*f)/(M*r*R*l)\n",
        "\n",
        "  return [y[1], x_ddot, y[3], theta_ddot]"
      ],
      "execution_count": null,
      "outputs": []
    },
    {
      "cell_type": "code",
      "metadata": {
        "id": "yRZCyQJtJuKu"
      },
      "source": [
        "# Controller\n",
        "def ctrl_lqr(y):\n",
        "  f = -K[0,0]*y[0] -K[0,1]*y[1] -K[0,2]*y[2] -K[0,3]*y[3]\n",
        "\n",
        "  return f"
      ],
      "execution_count": null,
      "outputs": []
    },
    {
      "cell_type": "code",
      "metadata": {
        "id": "xdLfhJvFw6FT"
      },
      "source": [
        "# Integral Solver\n",
        "def step(states, dt):\n",
        "  x= states[0]\n",
        "  x_dot = states[1]\n",
        "  theta = states[2]\n",
        "  theta_dot = states[3]\n",
        "\n",
        "  f = ctrl_lqr(states)\n",
        "  f_data.append(f)\n",
        "\n",
        "  sol = solve_ivp(lambda t,y: dyna_pencart(t,y,f), [0, dt], [x, x_dot, theta, theta_dot], t_eval = np.linspace(0, dt, 100))\n",
        "  states = sol.y[:,-1].T\n",
        "\n",
        "  return states"
      ],
      "execution_count": null,
      "outputs": []
    },
    {
      "cell_type": "code",
      "metadata": {
        "id": "vJsL4yZ3yQxT"
      },
      "source": [
        "# Solver Iterator\n",
        "def drawframe(i):\n",
        "  global states\n",
        "  states = step(states, dt)\n",
        "  x = states[0]\n",
        "  x_dot = states[1]\n",
        "  theta = states[2]\n",
        "  theta_dot = states[3]\n",
        "\n",
        "  x_data.append(states[0])\n",
        "  x_dot_data.append(states[1])\n",
        "  theta_data.append(states[2])\n",
        "  theta_dot_data.append(states[3])\n",
        "\n",
        "  rod_x, rod_y = rodPoints(x, l, theta)\n",
        "  bob_x, bob_y = bobPoints(x, l, theta)\n",
        "  cart_x, cart_y = cartPoints(x)\n",
        "\n",
        "  rod.set_data(rod_x, rod_y)\n",
        "  bob.set_data(bob_x, bob_y)\n",
        "  cart.set_data(cart_x, cart_y)\n",
        "  traj.set_data(x_data,0)\n",
        "  traj1.set_data(x_data+l*np.sin(theta_data), l*np.cos(theta_data))\n",
        "\n",
        "  return rod, bob, cart, traj, traj1"
      ],
      "execution_count": null,
      "outputs": []
    },
    {
      "cell_type": "code",
      "metadata": {
        "id": "YWCtYcEW01-w"
      },
      "source": [
        "# Animator\n",
        "ax1.set_xlabel('X-axis')\n",
        "ax1.set_ylabel('Y-axis')\n",
        "ax1.set_title('Pendulum-Cart System')\n",
        "\n",
        "# blit=True re-draws only the parts that have changed.\n",
        "anim = animation.FuncAnimation(fig, drawframe, frames=frames, interval=100, blit=True)"
      ],
      "execution_count": null,
      "outputs": []
    },
    {
      "cell_type": "code",
      "metadata": {
        "id": "ArkyLGh60_me"
      },
      "source": [
        "# Convert animation to HTML5 video\n",
        "from IPython.display import HTML\n",
        "HTML(anim.to_html5_video())"
      ],
      "execution_count": null,
      "outputs": []
    },
    {
      "cell_type": "code",
      "metadata": {
        "id": "fzH_dv0Z-ac6"
      },
      "source": [
        "# Figure to plot the states against time step\n",
        "a = [-10, 110]\n",
        "b = [0, 0]\n",
        "fig1 = plt.figure(figsize=(15,15))\n",
        "ax2 = fig1.add_subplot(3, 2, 1)\n",
        "ax2.set_xlabel('Time Step')\n",
        "ax2.set_ylabel('x')\n",
        "ax2.set_title('State Plot of x')\n",
        "x1 = ax2.plot(range(len(x_data)),x_data)\n",
        "A = ax2.plot(a, b, 'r:')\n",
        "\n",
        "ax3 = fig1.add_subplot(3, 2, 2)\n",
        "ax3.set_xlabel('Time Step')\n",
        "ax3.set_ylabel('x_dot')\n",
        "ax3.set_title('State Plot of x_dot')\n",
        "x_dot1 = ax3.plot(range(len(x_dot_data)),x_dot_data)\n",
        "A = ax3.plot(a, b, 'r:')\n",
        "\n",
        "ax4 = fig1.add_subplot(3, 2, 3)\n",
        "ax4.set_xlabel('Time Step')\n",
        "ax4.set_ylabel('theta')\n",
        "ax4.set_title('State Plot of theta')\n",
        "theta1 = ax4.plot(range(len(theta_data)),theta_data)\n",
        "A = ax4.plot(a, b, 'r:')\n",
        "\n",
        "ax5 = fig1.add_subplot(3, 2, 4)\n",
        "ax5.set_xlabel('Time Step')\n",
        "ax5.set_ylabel('theta_dot')\n",
        "ax5.set_title('State Plot of theta_dot')\n",
        "theta_dot1 = ax5.plot(range(len(theta_dot_data)),theta_dot_data)\n",
        "A = ax5.plot(a, b, 'r:')\n",
        "\n",
        "ax6 = fig1.add_subplot(3, 2, 5)\n",
        "ax6.set_xlabel('Time Step')\n",
        "ax6.set_ylabel('input')\n",
        "ax6.set_title('Plot of input')\n",
        "f1 = ax6.plot(range(len(f_data)),f_data)\n",
        "A = ax6.plot(a, b, 'r:')"
      ],
      "execution_count": null,
      "outputs": []
    }
  ]
}
