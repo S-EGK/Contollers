{
  "nbformat": 4,
  "nbformat_minor": 0,
  "metadata": {
    "colab": {
      "provenance": [],
      "toc_visible": true,
      "authorship_tag": "ABX9TyPpJZpTehEj24tSvLEjss0O",
      "include_colab_link": true
    },
    "kernelspec": {
      "name": "python3",
      "display_name": "Python 3"
    },
    "language_info": {
      "name": "python"
    }
  },
  "cells": [
    {
      "cell_type": "markdown",
      "metadata": {
        "id": "view-in-github",
        "colab_type": "text"
      },
      "source": [
        "<a href=\"https://colab.research.google.com/github/S-EGK/Contollers/blob/main/Non-Linear%20Controllers/Sliding%20Mode%20Controllers/Sliding%20Mode%20Trajectory%20Controller%20for%20Pendulum.ipynb\" target=\"_parent\"><img src=\"https://colab.research.google.com/assets/colab-badge.svg\" alt=\"Open In Colab\"/></a>"
      ]
    },
    {
      "cell_type": "markdown",
      "source": [
        "# Assignment 5 Problem 14.1.2\n",
        "## Srikanth EGK\n",
        "### M13998009"
      ],
      "metadata": {
        "id": "4t8CyfQFZU_O"
      }
    },
    {
      "cell_type": "markdown",
      "source": [
        "## Libraries"
      ],
      "metadata": {
        "id": "fxZjwPJ1Zig1"
      }
    },
    {
      "cell_type": "code",
      "execution_count": null,
      "metadata": {
        "id": "8qIqQ3vKZQJ1"
      },
      "outputs": [],
      "source": [
        "# importing libraries\n",
        "from math import cos, sin\n",
        "import numpy as np\n",
        "from random import random\n",
        "import scipy.signal as signal\n",
        "import scipy.linalg as linalg\n",
        "from mpl_toolkits.mplot3d import Axes3D\n",
        "from scipy.integrate import solve_ivp\n",
        "import matplotlib.pyplot as plt\n",
        "from matplotlib import animation\n",
        "from matplotlib.patches import Circle"
      ]
    },
    {
      "cell_type": "markdown",
      "source": [
        "## Parameters"
      ],
      "metadata": {
        "id": "D3G_kHFLZ4uw"
      }
    },
    {
      "cell_type": "markdown",
      "source": [
        "### Simulation Parameters"
      ],
      "metadata": {
        "id": "5au4w348Zppj"
      }
    },
    {
      "cell_type": "code",
      "source": [
        "dt = 0.1\n",
        "Tfinal = 30\n",
        "Ts = dt\n",
        "Tsteps = Tfinal/Ts # number of frames\n",
        "frames = int(Tsteps)"
      ],
      "metadata": {
        "id": "kWvuN3c2ZvwP"
      },
      "execution_count": null,
      "outputs": []
    },
    {
      "cell_type": "markdown",
      "source": [
        "### System Parameters"
      ],
      "metadata": {
        "id": "9UeXS21EZ_zC"
      }
    },
    {
      "cell_type": "code",
      "source": [
        "# States\n",
        "e1 = 0.2\n",
        "e2 = 0.2\n",
        "\n",
        "states = np.array([e1, e2])"
      ],
      "metadata": {
        "id": "dQTc8AWTaQiv"
      },
      "execution_count": null,
      "outputs": []
    },
    {
      "cell_type": "markdown",
      "source": [
        "### Datat Collection and Plot Parameters"
      ],
      "metadata": {
        "id": "edbp7yW0fsAD"
      }
    },
    {
      "cell_type": "code",
      "source": [
        "# Data Collectors\n",
        "f_data = []\n",
        "e1_data = []\n",
        "e2_data = []\n",
        "r_data = []\n",
        "r_dot_data = []\n",
        "\n",
        "# Animation Parameters\n",
        "rod_x = [0, sin(e1)]\n",
        "rod_y = [0, -cos(e1)]\n",
        "\n",
        "fig = plt.figure(figsize = (10,5))\n",
        "ax1 = plt.subplot(1,1,1)\n",
        "ax1.set_xlim((-10,10))\n",
        "ax1.set_ylim((-3,3))\n",
        "\n",
        "rod, = ax1.plot(rod_x, rod_y, 'b', lw = 2)\n",
        "bob, = ax1.plot(sin(e1), -cos(e1), 'g', marker = 'o', ms = 10)"
      ],
      "metadata": {
        "id": "dOWTDeBlfyV3"
      },
      "execution_count": null,
      "outputs": []
    },
    {
      "cell_type": "code",
      "source": [
        "def anipts(e1):\n",
        "  rod_x = [0, sin(e1)]\n",
        "  rod_y = [0, -cos(e1)]\n",
        "  bob_x, bob_y = sin(e1), -cos(e1)\n",
        "\n",
        "  return rod_x, rod_y, bob_x, bob_y"
      ],
      "metadata": {
        "id": "Mpr7Abw_iWmB"
      },
      "execution_count": null,
      "outputs": []
    },
    {
      "cell_type": "markdown",
      "source": [
        "## Dynamics"
      ],
      "metadata": {
        "id": "SUkTH3OpariK"
      }
    },
    {
      "cell_type": "code",
      "source": [
        "def dyna(t,y,f,ref):\n",
        "  e1 = y[0]\n",
        "  e2 = y[1]\n",
        "  u = f\n",
        "  r = ref[0]\n",
        "  r_dot = ref[1]\n",
        "  r_ddot = ref[2]\n",
        "\n",
        "  e1_dot = e2 + r + sin(e1 + r) - r_dot\n",
        "  e2_dot = 2*(e1+r)*(e1+r) + 3/2 * u - r_ddot\n",
        "\n",
        "  return e1_dot, e2_dot"
      ],
      "metadata": {
        "id": "Cg53HnQdav_6"
      },
      "execution_count": null,
      "outputs": []
    },
    {
      "cell_type": "markdown",
      "source": [
        "## Reference Trajectory"
      ],
      "metadata": {
        "id": "ySmCcAenVnKg"
      }
    },
    {
      "cell_type": "code",
      "source": [
        "def ref_traj(i):\n",
        "  w = np.pi/10\n",
        "\n",
        "  r = sin(w*i)\n",
        "  r_dot = w*cos(w*i)\n",
        "  r_ddot = -w*w*sin(w*i)\n",
        "\n",
        "  ref = np.array([r, r_dot, r_ddot])\n",
        "\n",
        "  return ref"
      ],
      "metadata": {
        "id": "UmMZmRhiVqYW"
      },
      "execution_count": null,
      "outputs": []
    },
    {
      "cell_type": "markdown",
      "source": [
        "## Sliding Mode Controller"
      ],
      "metadata": {
        "id": "_Ux-C2T3drSQ"
      }
    },
    {
      "cell_type": "code",
      "source": [
        "def slid_ctrl(y,ref):\n",
        "  e1 = y[0]\n",
        "  e2 = y[1]\n",
        "\n",
        "  r = ref[0]\n",
        "  r_dot = ref[1]\n",
        "  r_ddot = ref[2]\n",
        "\n",
        "  beta = 2\n",
        "  a = 7\n",
        "\n",
        "  s = a * e1 + e2 + sin(e1+r)\n",
        "  e = 0.01\n",
        "\n",
        "  s1 = np.absolute(s/e)\n",
        "\n",
        "  if s1 <= 1:\n",
        "    u = (2/3)*(-(a+cos(e1+r))*(e2+sin(e1+r)) - 2*(e1+r)*(e1+r) + r_ddot - beta*(s))\n",
        "  elif s1 > 1:\n",
        "    u = (2/3)*(-(a+cos(e1+r))*(e2+sin(e1+r)) - 2*(e1+r)*(e1+r) + r_ddot - beta*np.sign(s))\n",
        "\n",
        "  # u = -(2/3)*(a*x2 + a*x1 + 2*x1*x1 + beta*np.sign(s))\n",
        "\n",
        "  return u"
      ],
      "metadata": {
        "id": "-pCMe9VvdwLD"
      },
      "execution_count": null,
      "outputs": []
    },
    {
      "cell_type": "markdown",
      "source": [
        "## Solver"
      ],
      "metadata": {
        "id": "ym8X6poJe7Tj"
      }
    },
    {
      "cell_type": "code",
      "source": [
        "def step(states,dt,i):\n",
        "  e1 = states[0]\n",
        "  e2 = states[1]\n",
        "\n",
        "  ref = ref_traj(i)\n",
        "\n",
        "  f = slid_ctrl(states,ref)\n",
        "  f_data.append(f)\n",
        "\n",
        "  sol = solve_ivp(lambda t,y: dyna(t,y,f,ref), [0,dt], [e1, e2], t_eval = np.linspace(0,dt,100))\n",
        "  states = sol.y[:,-1].T\n",
        "\n",
        "  return states, ref"
      ],
      "metadata": {
        "id": "qdAw9Lcae-bx"
      },
      "execution_count": null,
      "outputs": []
    },
    {
      "cell_type": "markdown",
      "source": [
        "## Iterating"
      ],
      "metadata": {
        "id": "uNweiImcgRgs"
      }
    },
    {
      "cell_type": "code",
      "source": [
        "def drawframe(i):\n",
        "  global states\n",
        "  states, ref = step(states,dt,i)\n",
        "  e1 = states[0]\n",
        "  e2 = states[1]\n",
        "  r = ref[0]\n",
        "  r_dot = ref[1]\n",
        "\n",
        "  e1_data.append(states[0]+ref[0])\n",
        "  e2_data.append(states[1]+ref[1])\n",
        "  r_data.append(ref[0])\n",
        "  r_dot_data.append(ref[1])\n",
        "\n",
        "  rod_x, rod_y, bob_x, bob_y = anipts(e1+r)\n",
        "\n",
        "  rod.set_data(rod_x, rod_y)\n",
        "  bob.set_data(bob_x, bob_y)\n",
        "\n",
        "  return rod, bob"
      ],
      "metadata": {
        "id": "ii15C792gUgi"
      },
      "execution_count": null,
      "outputs": []
    },
    {
      "cell_type": "markdown",
      "source": [
        "## Animation"
      ],
      "metadata": {
        "id": "qirfo7rPjKLh"
      }
    },
    {
      "cell_type": "code",
      "source": [
        "from matplotlib import animation\n",
        "# blit=True re-draws only the parts that have changed.\n",
        "anim = animation.FuncAnimation(fig, drawframe, frames=frames, interval=40, blit=True)"
      ],
      "metadata": {
        "id": "pn1cDXFHjJOP"
      },
      "execution_count": null,
      "outputs": []
    },
    {
      "cell_type": "code",
      "source": [
        "from IPython.display import HTML\n",
        "HTML(anim.to_html5_video())"
      ],
      "metadata": {
        "id": "QX4QgZBpjQaY"
      },
      "execution_count": null,
      "outputs": []
    },
    {
      "cell_type": "markdown",
      "source": [
        "## Plots"
      ],
      "metadata": {
        "id": "bNn9e_fPkX4s"
      }
    },
    {
      "cell_type": "code",
      "source": [
        "fig1 = plt.figure(figsize=(17,22), dpi=90)\n",
        "\n",
        "ax1 = fig1.add_subplot(4, 3, 1)\n",
        "ax1.set_xlabel('Time Step')\n",
        "ax1.set_ylabel('x1')\n",
        "ax1.set_title('State Plot of x1')\n",
        "x11 = ax1.plot(range(len(e1_data)),e1_data, label='x1')\n",
        "r11 = ax1.plot(range(len(r_data)),r_data, 'r:', label='x1_ref')\n",
        "ax1.legend(loc = \"best\")\n",
        "\n",
        "ax2 = fig1.add_subplot(4, 3, 2)\n",
        "ax2.set_xlabel('Time Step')\n",
        "ax2.set_ylabel('x2')\n",
        "ax2.set_title('State Plot of x2')\n",
        "x21 = ax2.plot(range(len(e2_data)),e2_data, label='x2')\n",
        "r_d1 = ax2.plot(range(len(r_dot_data)),r_dot_data, 'r:', label='x2_ref')\n",
        "ax2.legend(loc = \"best\")\n",
        "\n",
        "ax3 = fig1.add_subplot(4, 3, 3)\n",
        "ax3.set_xlabel('x1')\n",
        "ax3.set_ylabel('x2')\n",
        "ax3.set_title('x1 - x2')\n",
        "x1x21 = ax3.plot(e1_data,e2_data, label='x1-x2')\n",
        "rrd1 = ax3.plot(r_data,r_dot_data, 'r:', label='x1-x2-ref')\n",
        "ax3.legend(loc = \"best\")\n",
        "\n",
        "ax4 = fig1.add_subplot(4, 3, 4)\n",
        "ax4.set_xlabel('Time Step')\n",
        "ax4.set_ylabel('f')\n",
        "ax4.set_title('f vs time step')\n",
        "f1 = ax4.plot(range(len(f_data)),f_data, label='input')\n",
        "ax4.legend(loc = \"best\")"
      ],
      "metadata": {
        "id": "MeEg5MUAkaKT"
      },
      "execution_count": null,
      "outputs": []
    }
  ]
}