{
  "nbformat": 4,
  "nbformat_minor": 0,
  "metadata": {
    "colab": {
      "provenance": [],
      "collapsed_sections": [],
      "toc_visible": true,
      "include_colab_link": true
    },
    "kernelspec": {
      "name": "python3",
      "display_name": "Python 3"
    },
    "language_info": {
      "name": "python"
    }
  },
  "cells": [
    {
      "cell_type": "markdown",
      "metadata": {
        "id": "view-in-github",
        "colab_type": "text"
      },
      "source": [
        "<a href=\"https://colab.research.google.com/github/S-EGK/Contollers/blob/main/Non-Linear%20Controllers/Backstepping%20Sliding%20Mode%20Trajectory%20Controller%20for%20Quadrotor.ipynb\" target=\"_parent\"><img src=\"https://colab.research.google.com/assets/colab-badge.svg\" alt=\"Open In Colab\"/></a>"
      ]
    },
    {
      "cell_type": "markdown",
      "source": [
        "## Libraries"
      ],
      "metadata": {
        "id": "ddF-Dm4uNbJr"
      }
    },
    {
      "cell_type": "code",
      "execution_count": null,
      "metadata": {
        "id": "MnTn-QI2MoCY"
      },
      "outputs": [],
      "source": [
        "# importing libraries\n",
        "from math import cos, sin, sqrt\n",
        "import numpy as np\n",
        "from random import random\n",
        "import scipy.signal as signal\n",
        "import scipy.linalg as linalg\n",
        "from mpl_toolkits.mplot3d import Axes3D\n",
        "from scipy.integrate import solve_ivp\n",
        "import matplotlib.pyplot as plt\n",
        "from matplotlib import animation\n",
        "from matplotlib.patches import Circle\n",
        "from IPython.display import HTML"
      ]
    },
    {
      "cell_type": "markdown",
      "source": [
        "## Parameters"
      ],
      "metadata": {
        "id": "D3G_kHFLZ4uw"
      }
    },
    {
      "cell_type": "markdown",
      "source": [
        "### System Parameters"
      ],
      "metadata": {
        "id": "1f2FR3t7a7gM"
      }
    },
    {
      "cell_type": "code",
      "source": [
        "#States\n",
        "x1 = 0 #roll\n",
        "x2 = 0 #roll rate\n",
        "x3 = 0 #pitch\n",
        "x4 = 0 #pitch rate\n",
        "x5 = 0 #yaw\n",
        "x6 = 0 #yaw rate\n",
        "x7 = 0 #x-pos\n",
        "x8 = 0 #x-vel\n",
        "x9 = 0 #y-pos\n",
        "x10 = 0 #y-vel\n",
        "x11 = 0 #z-pos\n",
        "x12 = 0 #z-vel\n",
        "\n",
        "states = np.array([x1, x2, x3, x4, x5, x6, x7, x8, x9, x10, x11, x12])\n",
        "\n",
        "#Backstepping SMC gains\n",
        "rho1 = 0.9\n",
        "rho2 = 0.9\n",
        "rho3 = 0.9\n",
        "rho4 = 0.9\n",
        "rho5 = 0.9\n",
        "rho6 = 0.9\n",
        "\n",
        "# SMC gains\n",
        "c1 = 20\n",
        "k1 = 20\n",
        "c2 = 20\n",
        "k2 = 20\n",
        "c3 = 0.9\n",
        "k3 = 0.9\n",
        "\n",
        "# Epsilon \n",
        "e11 = 0.9\n",
        "e21 = 0.9\n",
        "e31 = 0.9"
      ],
      "metadata": {
        "id": "xXwS6ZCca-NN"
      },
      "execution_count": null,
      "outputs": []
    },
    {
      "cell_type": "markdown",
      "source": [
        "### Data Collectors"
      ],
      "metadata": {
        "id": "MhqcATCIdDbW"
      }
    },
    {
      "cell_type": "code",
      "source": [
        "x1_data = []\n",
        "x2_data = []\n",
        "x3_data = []\n",
        "x4_data = []\n",
        "x5_data = []\n",
        "x6_data = []\n",
        "x7_data = []\n",
        "x8_data = []\n",
        "x9_data = []\n",
        "x10_data = []\n",
        "x11_data = []\n",
        "x12_data = []\n",
        "\n",
        "x_r_data = []\n",
        "y_r_data = []\n",
        "z_r_data = []\n",
        "psi_r_data = []\n",
        "\n",
        "x1d_data = []\n",
        "x3d_data = []\n",
        "\n",
        "U1_data = []\n",
        "U2_data = []\n",
        "U3_data = []\n",
        "U4_data = []"
      ],
      "metadata": {
        "id": "ZbwCQ8ZHdA0X"
      },
      "execution_count": null,
      "outputs": []
    },
    {
      "cell_type": "markdown",
      "source": [
        "### Quad Parameters"
      ],
      "metadata": {
        "id": "DtDrqVOaivp8"
      }
    },
    {
      "cell_type": "code",
      "source": [
        "dx = 0.25\n",
        "dy = 0.25\n",
        "dz = 0.25\n",
        "dph = 0.2\n",
        "dth = 0.2\n",
        "dps = 0.2\n",
        "m = 1\n",
        "g = 9.8\n",
        "Jx = 0.114700 #moi wrt x\n",
        "Jy = 0.057600 #moi wrt y\n",
        "Jz = 0.171200 #moi wrt z\n",
        "Jr = sqrt(Jx*Jx+Jy*Jy+Jz*Jz)"
      ],
      "metadata": {
        "id": "kVK5Oowgi4Ps"
      },
      "execution_count": null,
      "outputs": []
    },
    {
      "cell_type": "markdown",
      "source": [
        "### Normalized Parameters"
      ],
      "metadata": {
        "id": "amZzm9WxijNa"
      }
    },
    {
      "cell_type": "code",
      "source": [
        "a1 = (Jy-Jz)/Jx\n",
        "a2 = Jr/Jx\n",
        "a3 = dph/Jx\n",
        "a4 = (Jz-Jx)/Jy\n",
        "a5 = Jr/Jy\n",
        "a6 = dth/Jy\n",
        "a7 = (Jx-Jy)/Jz\n",
        "a8 = dps/Jz\n",
        "a9 = dx/m\n",
        "a10 = dy/m\n",
        "a11 = dz/m\n",
        "\n",
        "w_bar = 0.9"
      ],
      "metadata": {
        "id": "o8N37uDmimSy"
      },
      "execution_count": null,
      "outputs": []
    },
    {
      "cell_type": "markdown",
      "source": [
        "### Simulation Parameters"
      ],
      "metadata": {
        "id": "qlfsnBO-NofV"
      }
    },
    {
      "cell_type": "code",
      "source": [
        "dt = 0.1\n",
        "Tfinal = 40\n",
        "Ts = dt\n",
        "Tsteps = Tfinal/Ts # number of frames\n",
        "frames = int(Tsteps)"
      ],
      "metadata": {
        "id": "pStWmdXENxEi"
      },
      "execution_count": null,
      "outputs": []
    },
    {
      "cell_type": "markdown",
      "source": [
        "## Transformation Matrices"
      ],
      "metadata": {
        "id": "Fc4w78lT426e"
      }
    },
    {
      "cell_type": "code",
      "source": [
        "# Rotational Matrix to convert body frame to inertial frame\n",
        "def rot_mat_bod2veh(phi, theta, psi):\n",
        "    R_b_v=np.array([[cos(theta)*cos(psi), sin(phi)*sin(theta)*cos(psi)-cos(phi)*sin(psi), cos(phi)*sin(theta)*cos(psi)+sin(phi)*sin(psi)],\n",
        "                    [cos(theta)*sin(psi), sin(phi)*sin(theta)*sin(psi)+cos(phi)*cos(psi), cos(phi)*sin(theta)*sin(psi)-sin(phi)*cos(psi)],\n",
        "                    [-sin(theta),         sin(phi)*cos(theta),                            cos(phi)*cos(theta)]])\n",
        "    return R_b_v"
      ],
      "metadata": {
        "id": "I9a84N5S4508"
      },
      "execution_count": null,
      "outputs": []
    },
    {
      "cell_type": "code",
      "source": [
        "# Matrix to orient ned to xyz\n",
        "def axes_ned2yxz():\n",
        "  A_ned = [[0, 1, 0],\n",
        "           [1, 0, 0],\n",
        "           [0, 0, -1]]\n",
        "  return A_ned"
      ],
      "metadata": {
        "id": "VbbLA8RJ494T"
      },
      "execution_count": null,
      "outputs": []
    },
    {
      "cell_type": "markdown",
      "source": [
        "## Reference Trajectory"
      ],
      "metadata": {
        "id": "4n5b3BQQOu9y"
      }
    },
    {
      "cell_type": "code",
      "source": [
        "def ref_traj(t):\n",
        "  x_r = np.cos(t)\n",
        "  x_r_dot = -np.sin(t)\n",
        "  x_r_ddot = -np.cos(t)\n",
        "  x_ref = np.array([x_r, x_r_dot, x_r_ddot])\n",
        "\n",
        "  x_r_data.append(x_r)\n",
        "\n",
        "  y_r = np.sin(t)\n",
        "  y_r_dot = np.cos(t)\n",
        "  y_r_ddot = -np.sin(t)\n",
        "  y_ref = np.array([y_r, y_r_dot, y_r_ddot])\n",
        "\n",
        "  y_r_data.append(y_r)\n",
        "\n",
        "  z_r = 0.5*t\n",
        "  z_r_dot = 0.5\n",
        "  z_r_ddot = 0\n",
        "  z_ref = np.array([z_r, z_r_dot, z_r_ddot])\n",
        "\n",
        "  z_r_data.append(z_r)\n",
        "\n",
        "  psi_r = np.sin(0.5*t)\n",
        "  psi_r_dot = 0.5*np.cos(0.5*t)\n",
        "  psi_r_ddot = -0.5*0.5*np.sin(0.5*t)\n",
        "  psi_ref = np.array([psi_r, psi_r_dot, psi_r_ddot])\n",
        "\n",
        "  psi_r_data.append(psi_r)\n",
        "\n",
        "  return x_ref, y_ref, z_ref, psi_ref"
      ],
      "metadata": {
        "id": "25juryd0OxnG"
      },
      "execution_count": null,
      "outputs": []
    },
    {
      "cell_type": "markdown",
      "source": [
        "## Backstepping Sliding Mode Controller for Position Trajectory Tracking Control "
      ],
      "metadata": {
        "id": "wwTw6jz4acFC"
      }
    },
    {
      "cell_type": "code",
      "source": [
        "def pos_ctrl(states, x_ref, y_ref, z_ref):\n",
        "  x1 = states[0] + np.random.normal(0, 0.1)\n",
        "  x2 = states[1]\n",
        "  x3 = states[2] + np.random.normal(0, 0.1)\n",
        "  x4 = states[3]\n",
        "  x5 = states[4] + np.random.normal(0, 0.1)\n",
        "  x6 = states[5]\n",
        "  x7 = states[6] + np.random.normal(0, 0.1)\n",
        "  x8 = states[7]\n",
        "  x9 = states[8] + np.random.normal(0, 0.1)\n",
        "  x10 = states[9]\n",
        "  x11 = states[10] + np.random.normal(0, 0.1)\n",
        "  x12 = states[11]\n",
        "\n",
        "  # Block for x-pos\n",
        "  z7 = x_ref[0] - x7                    # x-pos error state\n",
        "  v1 = x_ref[1] + rho1*z7               # virtual control 1\n",
        "  sp1 = v1 - x8                         # sliding-mode manifold\n",
        "  z7_dot = -rho1*z7 + sp1               # rate change of error state\n",
        "  v1_dot = x_ref[2] + rho1*z7_dot       # rate change of virtual control 1\n",
        "  v2 = v1_dot + z7 + a9*x8 + rho2*sp1   # virtual control 2\n",
        "\n",
        "  # Block for y-pos\n",
        "  z9 = y_ref[0] - x9                    # y-pos error state\n",
        "  v3 = y_ref[1] + rho3*z9               # virtual control 3\n",
        "  sp2 = v3 - x10                        # sliding-mode manifold\n",
        "  z9_dot = -rho3*z9 + sp2               # rate change of error state\n",
        "  v3_dot = y_ref[2] + rho3*z9_dot       # rate change of virtual control 3\n",
        "  v4 = v3_dot + z9 + a10*x10 + rho4*sp2 # virtual control 4\n",
        "\n",
        "  # Block for z-pos\n",
        "  z11 = z_ref[0] - x11                        # y-pos error state\n",
        "  v5 = z_ref[1] + rho5*z11                    # virtual control 3\n",
        "  sp3 = v5 - x12                              # sliding-mode manifold\n",
        "  z11_dot = -rho5*z11 + sp3                   # rate change of error state\n",
        "  v5_dot = z_ref[2] + rho5*z11_dot            # rate change of virtual control 2\n",
        "  v6 = v5_dot + z11 + g + a11*x12 + rho6*sp3  # virtual control 2\n",
        "\n",
        "  return v2, v4, v6"
      ],
      "metadata": {
        "id": "6X_yJihhaHde"
      },
      "execution_count": null,
      "outputs": []
    },
    {
      "cell_type": "markdown",
      "source": [
        "## Arithmatic Inverter"
      ],
      "metadata": {
        "id": "IM7AIL22l_GF"
      }
    },
    {
      "cell_type": "code",
      "source": [
        "def art_invt(t, states):\n",
        "  x1 = states[0]\n",
        "  x2 = states[1]\n",
        "  x3 = states[2]\n",
        "  x4 = states[3]\n",
        "  x5 = states[4]\n",
        "  x6 = states[5]\n",
        "  x7 = states[6]\n",
        "  x8 = states[7]\n",
        "  x9 = states[8]\n",
        "  x10 = states[9]\n",
        "  x11 = states[10]\n",
        "  x12 = states[11]\n",
        "\n",
        "  x1d = np.arctan2(-(sin(sin(0.5*t)) + cos(sin(0.5*t)))*(a10*x10 + rho3*(-x10 + cos(t)) + rho4*(rho3*(-x9 + sin(t)) - x10 + cos(t)) - x9) + (a9*x8 + rho1*(-x8 - sin(t)) + rho2*(rho1*(-x7 + cos(t)) - x8 - sin(t)) - x7 + (a10*x10 + rho3*(-x10 + cos(t)) + rho4*(rho3*(-x9 + sin(t)) - x10 + cos(t)) - x9)/(a11*x12 + g + rho5*(0.5 - x12) + rho6*(rho5*(0.5*t - x11) - x12 + 0.5) + 0.5*t - x11))*(a11*x12 + g + rho5*(0.5 - x12) + rho6*(rho5*(0.5*t - x11) - x12 + 0.5) + 0.5*t - x11)*cos(sin(0.5*t)), sqrt((sin(sin(0.5*t)) + cos(sin(0.5*t)))**2 + (a9*x8 + rho1*(-x8 - sin(t)) + rho2*(rho1*(-x7 + cos(t)) - x8 - sin(t)) - x7 + (a10*x10 + rho3*(-x10 + cos(t)) + rho4*(rho3*(-x9 + sin(t)) - x10 + cos(t)) - x9)/(a11*x12 + g + rho5*(0.5 - x12) + rho6*(rho5*(0.5*t - x11) - x12 + 0.5) + 0.5*t - x11))**2)*(a11*x12 + g + rho5*(0.5 - x12) + rho6*(rho5*(0.5*t - x11) - x12 + 0.5) + 0.5*t - x11)*cos(sin(0.5*t)))\n",
        "  x3d = np.arctan2(a9*x8 + rho1*(-x8 - sin(t)) + rho2*(rho1*(-x7 + cos(t)) - x8 - sin(t)) - x7 + (a10*x10 + rho3*(-x10 + cos(t)) + rho4*(rho3*(-x9 + sin(t)) - x10 + cos(t)) - x9)/(a11*x12 + g + rho5*(0.5 - x12) + rho6*(rho5*(0.5*t - x11) - x12 + 0.5) + 0.5*t - x11), sin(sin(0.5*t)) + cos(sin(0.5*t)))\n",
        "\n",
        "  x1d_dot = ((sin(sin(0.5*t)) + cos(sin(0.5*t)))*(a10*x10 + rho3*(-x10 + cos(t)) + rho4*(rho3*(-x9 + sin(t)) - x10 + cos(t)) - x9) - (a9*x8 + rho1*(-x8 - sin(t)) + rho2*(rho1*(-x7 + cos(t)) - x8 - sin(t)) - x7 + (a10*x10 + rho3*(-x10 + cos(t)) + rho4*(rho3*(-x9 + sin(t)) - x10 + cos(t)) - x9)/(a11*x12 + g + rho5*(0.5 - x12) + rho6*(rho5*(0.5*t - x11) - x12 + 0.5) + 0.5*t - x11))*(a11*x12 + g + rho5*(0.5 - x12) + rho6*(rho5*(0.5*t - x11) - x12 + 0.5) + 0.5*t - x11)*cos(sin(0.5*t)))*((0.5*rho5*rho6 + 0.5)*sqrt((sin(sin(0.5*t)) + cos(sin(0.5*t)))**2 + (a9*x8 + rho1*(-x8 - sin(t)) + rho2*(rho1*(-x7 + cos(t)) - x8 - sin(t)) - x7 + (a10*x10 + rho3*(-x10 + cos(t)) + rho4*(rho3*(-x9 + sin(t)) - x10 + cos(t)) - x9)/(a11*x12 + g + rho5*(0.5 - x12) + rho6*(rho5*(0.5*t - x11) - x12 + 0.5) + 0.5*t - x11))**2)*cos(sin(0.5*t)) + ((-1.0*sin(sin(0.5*t))*cos(0.5*t) + cos(0.5*t)*cos(sin(0.5*t)))*(sin(sin(0.5*t)) + cos(sin(0.5*t)))/2 + (-2*rho1*cos(t) + 2*rho2*(-rho1*sin(t) - cos(t)) + 2*(-rho3*sin(t) + rho4*(rho3*cos(t) - sin(t)))/(a11*x12 + g + rho5*(0.5 - x12) + rho6*(rho5*(0.5*t - x11) - x12 + 0.5) + 0.5*t - x11) + 2*(-0.5*rho5*rho6 - 0.5)*(a10*x10 + rho3*(-x10 + cos(t)) + rho4*(rho3*(-x9 + sin(t)) - x10 + cos(t)) - x9)/(a11*x12 + g + rho5*(0.5 - x12) + rho6*(rho5*(0.5*t - x11) - x12 + 0.5) + 0.5*t - x11)**2)*(a9*x8 + rho1*(-x8 - sin(t)) + rho2*(rho1*(-x7 + cos(t)) - x8 - sin(t)) - x7 + (a10*x10 + rho3*(-x10 + cos(t)) + rho4*(rho3*(-x9 + sin(t)) - x10 + cos(t)) - x9)/(a11*x12 + g + rho5*(0.5 - x12) + rho6*(rho5*(0.5*t - x11) - x12 + 0.5) + 0.5*t - x11))/2)*(a11*x12 + g + rho5*(0.5 - x12) + rho6*(rho5*(0.5*t - x11) - x12 + 0.5) + 0.5*t - x11)*cos(sin(0.5*t))/sqrt((sin(sin(0.5*t)) + cos(sin(0.5*t)))**2 + (a9*x8 + rho1*(-x8 - sin(t)) + rho2*(rho1*(-x7 + cos(t)) - x8 - sin(t)) - x7 + (a10*x10 + rho3*(-x10 + cos(t)) + rho4*(rho3*(-x9 + sin(t)) - x10 + cos(t)) - x9)/(a11*x12 + g + rho5*(0.5 - x12) + rho6*(rho5*(0.5*t - x11) - x12 + 0.5) + 0.5*t - x11))**2) - 0.5*sqrt((sin(sin(0.5*t)) + cos(sin(0.5*t)))**2 + (a9*x8 + rho1*(-x8 - sin(t)) + rho2*(rho1*(-x7 + cos(t)) - x8 - sin(t)) - x7 + (a10*x10 + rho3*(-x10 + cos(t)) + rho4*(rho3*(-x9 + sin(t)) - x10 + cos(t)) - x9)/(a11*x12 + g + rho5*(0.5 - x12) + rho6*(rho5*(0.5*t - x11) - x12 + 0.5) + 0.5*t - x11))**2)*(a11*x12 + g + rho5*(0.5 - x12) + rho6*(rho5*(0.5*t - x11) - x12 + 0.5) + 0.5*t - x11)*sin(sin(0.5*t))*cos(0.5*t))/((-(sin(sin(0.5*t)) + cos(sin(0.5*t)))*(a10*x10 + rho3*(-x10 + cos(t)) + rho4*(rho3*(-x9 + sin(t)) - x10 + cos(t)) - x9) + (a9*x8 + rho1*(-x8 - sin(t)) + rho2*(rho1*(-x7 + cos(t)) - x8 - sin(t)) - x7 + (a10*x10 + rho3*(-x10 + cos(t)) + rho4*(rho3*(-x9 + sin(t)) - x10 + cos(t)) - x9)/(a11*x12 + g + rho5*(0.5 - x12) + rho6*(rho5*(0.5*t - x11) - x12 + 0.5) + 0.5*t - x11))*(a11*x12 + g + rho5*(0.5 - x12) + rho6*(rho5*(0.5*t - x11) - x12 + 0.5) + 0.5*t - x11)*cos(sin(0.5*t)))**2 + ((sin(sin(0.5*t)) + cos(sin(0.5*t)))**2 + (a9*x8 + rho1*(-x8 - sin(t)) + rho2*(rho1*(-x7 + cos(t)) - x8 - sin(t)) - x7 + (a10*x10 + rho3*(-x10 + cos(t)) + rho4*(rho3*(-x9 + sin(t)) - x10 + cos(t)) - x9)/(a11*x12 + g + rho5*(0.5 - x12) + rho6*(rho5*(0.5*t - x11) - x12 + 0.5) + 0.5*t - x11))**2)*(a11*x12 + g + rho5*(0.5 - x12) + rho6*(rho5*(0.5*t - x11) - x12 + 0.5) + 0.5*t - x11)**2*cos(sin(0.5*t))**2) + sqrt((sin(sin(0.5*t)) + cos(sin(0.5*t)))**2 + (a9*x8 + rho1*(-x8 - sin(t)) + rho2*(rho1*(-x7 + cos(t)) - x8 - sin(t)) - x7 + (a10*x10 + rho3*(-x10 + cos(t)) + rho4*(rho3*(-x9 + sin(t)) - x10 + cos(t)) - x9)/(a11*x12 + g + rho5*(0.5 - x12) + rho6*(rho5*(0.5*t - x11) - x12 + 0.5) + 0.5*t - x11))**2)*((-rho3*sin(t) + rho4*(rho3*cos(t) - sin(t)))*(-sin(sin(0.5*t)) - cos(sin(0.5*t))) + (0.5*rho5*rho6 + 0.5)*(a9*x8 + rho1*(-x8 - sin(t)) + rho2*(rho1*(-x7 + cos(t)) - x8 - sin(t)) - x7 + (a10*x10 + rho3*(-x10 + cos(t)) + rho4*(rho3*(-x9 + sin(t)) - x10 + cos(t)) - x9)/(a11*x12 + g + rho5*(0.5 - x12) + rho6*(rho5*(0.5*t - x11) - x12 + 0.5) + 0.5*t - x11))*cos(sin(0.5*t)) + (0.5*sin(sin(0.5*t))*cos(0.5*t) - 0.5*cos(0.5*t)*cos(sin(0.5*t)))*(a10*x10 + rho3*(-x10 + cos(t)) + rho4*(rho3*(-x9 + sin(t)) - x10 + cos(t)) - x9) + (-rho1*cos(t) + rho2*(-rho1*sin(t) - cos(t)) + (-rho3*sin(t) + rho4*(rho3*cos(t) - sin(t)))/(a11*x12 + g + rho5*(0.5 - x12) + rho6*(rho5*(0.5*t - x11) - x12 + 0.5) + 0.5*t - x11) + (-0.5*rho5*rho6 - 0.5)*(a10*x10 + rho3*(-x10 + cos(t)) + rho4*(rho3*(-x9 + sin(t)) - x10 + cos(t)) - x9)/(a11*x12 + g + rho5*(0.5 - x12) + rho6*(rho5*(0.5*t - x11) - x12 + 0.5) + 0.5*t - x11)**2)*(a11*x12 + g + rho5*(0.5 - x12) + rho6*(rho5*(0.5*t - x11) - x12 + 0.5) + 0.5*t - x11)*cos(sin(0.5*t)) - 0.5*(a9*x8 + rho1*(-x8 - sin(t)) + rho2*(rho1*(-x7 + cos(t)) - x8 - sin(t)) - x7 + (a10*x10 + rho3*(-x10 + cos(t)) + rho4*(rho3*(-x9 + sin(t)) - x10 + cos(t)) - x9)/(a11*x12 + g + rho5*(0.5 - x12) + rho6*(rho5*(0.5*t - x11) - x12 + 0.5) + 0.5*t - x11))*(a11*x12 + g + rho5*(0.5 - x12) + rho6*(rho5*(0.5*t - x11) - x12 + 0.5) + 0.5*t - x11)*sin(sin(0.5*t))*cos(0.5*t))*(a11*x12 + g + rho5*(0.5 - x12) + rho6*(rho5*(0.5*t - x11) - x12 + 0.5) + 0.5*t - x11)*cos(sin(0.5*t))/((-(sin(sin(0.5*t)) + cos(sin(0.5*t)))*(a10*x10 + rho3*(-x10 + cos(t)) + rho4*(rho3*(-x9 + sin(t)) - x10 + cos(t)) - x9) + (a9*x8 + rho1*(-x8 - sin(t)) + rho2*(rho1*(-x7 + cos(t)) - x8 - sin(t)) - x7 + (a10*x10 + rho3*(-x10 + cos(t)) + rho4*(rho3*(-x9 + sin(t)) - x10 + cos(t)) - x9)/(a11*x12 + g + rho5*(0.5 - x12) + rho6*(rho5*(0.5*t - x11) - x12 + 0.5) + 0.5*t - x11))*(a11*x12 + g + rho5*(0.5 - x12) + rho6*(rho5*(0.5*t - x11) - x12 + 0.5) + 0.5*t - x11)*cos(sin(0.5*t)))**2 + ((sin(sin(0.5*t)) + cos(sin(0.5*t)))**2 + (a9*x8 + rho1*(-x8 - sin(t)) + rho2*(rho1*(-x7 + cos(t)) - x8 - sin(t)) - x7 + (a10*x10 + rho3*(-x10 + cos(t)) + rho4*(rho3*(-x9 + sin(t)) - x10 + cos(t)) - x9)/(a11*x12 + g + rho5*(0.5 - x12) + rho6*(rho5*(0.5*t - x11) - x12 + 0.5) + 0.5*t - x11))**2)*(a11*x12 + g + rho5*(0.5 - x12) + rho6*(rho5*(0.5*t - x11) - x12 + 0.5) + 0.5*t - x11)**2*cos(sin(0.5*t))**2)\n",
        "  x1d_ddot = (0.5*rho5*rho6 + 0.5)*sqrt((sin(sin(0.5*t)) + cos(sin(0.5*t)))**2 + (a9*x8 + rho1*(-x8 - sin(t)) + rho2*(rho1*(-x7 + cos(t)) - x8 - sin(t)) - x7 + (a10*x10 + rho3*(-x10 + cos(t)) + rho4*(rho3*(-x9 + sin(t)) - x10 + cos(t)) - x9)/(a11*x12 + g + rho5*(0.5 - x12) + rho6*(rho5*(0.5*t - x11) - x12 + 0.5) + 0.5*t - x11))**2)*((-rho3*sin(t) + rho4*(rho3*cos(t) - sin(t)))*(-sin(sin(0.5*t)) - cos(sin(0.5*t))) + (0.5*rho5*rho6 + 0.5)*(a9*x8 + rho1*(-x8 - sin(t)) + rho2*(rho1*(-x7 + cos(t)) - x8 - sin(t)) - x7 + (a10*x10 + rho3*(-x10 + cos(t)) + rho4*(rho3*(-x9 + sin(t)) - x10 + cos(t)) - x9)/(a11*x12 + g + rho5*(0.5 - x12) + rho6*(rho5*(0.5*t - x11) - x12 + 0.5) + 0.5*t - x11))*cos(sin(0.5*t)) + (0.5*sin(sin(0.5*t))*cos(0.5*t) - 0.5*cos(0.5*t)*cos(sin(0.5*t)))*(a10*x10 + rho3*(-x10 + cos(t)) + rho4*(rho3*(-x9 + sin(t)) - x10 + cos(t)) - x9) + (-rho1*cos(t) + rho2*(-rho1*sin(t) - cos(t)) + (-rho3*sin(t) + rho4*(rho3*cos(t) - sin(t)))/(a11*x12 + g + rho5*(0.5 - x12) + rho6*(rho5*(0.5*t - x11) - x12 + 0.5) + 0.5*t - x11) + (-0.5*rho5*rho6 - 0.5)*(a10*x10 + rho3*(-x10 + cos(t)) + rho4*(rho3*(-x9 + sin(t)) - x10 + cos(t)) - x9)/(a11*x12 + g + rho5*(0.5 - x12) + rho6*(rho5*(0.5*t - x11) - x12 + 0.5) + 0.5*t - x11)**2)*(a11*x12 + g + rho5*(0.5 - x12) + rho6*(rho5*(0.5*t - x11) - x12 + 0.5) + 0.5*t - x11)*cos(sin(0.5*t)) - 0.5*(a9*x8 + rho1*(-x8 - sin(t)) + rho2*(rho1*(-x7 + cos(t)) - x8 - sin(t)) - x7 + (a10*x10 + rho3*(-x10 + cos(t)) + rho4*(rho3*(-x9 + sin(t)) - x10 + cos(t)) - x9)/(a11*x12 + g + rho5*(0.5 - x12) + rho6*(rho5*(0.5*t - x11) - x12 + 0.5) + 0.5*t - x11))*(a11*x12 + g + rho5*(0.5 - x12) + rho6*(rho5*(0.5*t - x11) - x12 + 0.5) + 0.5*t - x11)*sin(sin(0.5*t))*cos(0.5*t))*cos(sin(0.5*t))/((-(sin(sin(0.5*t)) + cos(sin(0.5*t)))*(a10*x10 + rho3*(-x10 + cos(t)) + rho4*(rho3*(-x9 + sin(t)) - x10 + cos(t)) - x9) + (a9*x8 + rho1*(-x8 - sin(t)) + rho2*(rho1*(-x7 + cos(t)) - x8 - sin(t)) - x7 + (a10*x10 + rho3*(-x10 + cos(t)) + rho4*(rho3*(-x9 + sin(t)) - x10 + cos(t)) - x9)/(a11*x12 + g + rho5*(0.5 - x12) + rho6*(rho5*(0.5*t - x11) - x12 + 0.5) + 0.5*t - x11))*(a11*x12 + g + rho5*(0.5 - x12) + rho6*(rho5*(0.5*t - x11) - x12 + 0.5) + 0.5*t - x11)*cos(sin(0.5*t)))**2 + ((sin(sin(0.5*t)) + cos(sin(0.5*t)))**2 + (a9*x8 + rho1*(-x8 - sin(t)) + rho2*(rho1*(-x7 + cos(t)) - x8 - sin(t)) - x7 + (a10*x10 + rho3*(-x10 + cos(t)) + rho4*(rho3*(-x9 + sin(t)) - x10 + cos(t)) - x9)/(a11*x12 + g + rho5*(0.5 - x12) + rho6*(rho5*(0.5*t - x11) - x12 + 0.5) + 0.5*t - x11))**2)*(a11*x12 + g + rho5*(0.5 - x12) + rho6*(rho5*(0.5*t - x11) - x12 + 0.5) + 0.5*t - x11)**2*cos(sin(0.5*t))**2) + ((-1.0*sin(sin(0.5*t))*cos(0.5*t) + cos(0.5*t)*cos(sin(0.5*t)))*(sin(sin(0.5*t)) + cos(sin(0.5*t)))/2 + (-2*rho1*cos(t) + 2*rho2*(-rho1*sin(t) - cos(t)) + 2*(-rho3*sin(t) + rho4*(rho3*cos(t) - sin(t)))/(a11*x12 + g + rho5*(0.5 - x12) + rho6*(rho5*(0.5*t - x11) - x12 + 0.5) + 0.5*t - x11) + 2*(-0.5*rho5*rho6 - 0.5)*(a10*x10 + rho3*(-x10 + cos(t)) + rho4*(rho3*(-x9 + sin(t)) - x10 + cos(t)) - x9)/(a11*x12 + g + rho5*(0.5 - x12) + rho6*(rho5*(0.5*t - x11) - x12 + 0.5) + 0.5*t - x11)**2)*(a9*x8 + rho1*(-x8 - sin(t)) + rho2*(rho1*(-x7 + cos(t)) - x8 - sin(t)) - x7 + (a10*x10 + rho3*(-x10 + cos(t)) + rho4*(rho3*(-x9 + sin(t)) - x10 + cos(t)) - x9)/(a11*x12 + g + rho5*(0.5 - x12) + rho6*(rho5*(0.5*t - x11) - x12 + 0.5) + 0.5*t - x11))/2)*((-rho3*sin(t) + rho4*(rho3*cos(t) - sin(t)))*(-sin(sin(0.5*t)) - cos(sin(0.5*t))) + (0.5*rho5*rho6 + 0.5)*(a9*x8 + rho1*(-x8 - sin(t)) + rho2*(rho1*(-x7 + cos(t)) - x8 - sin(t)) - x7 + (a10*x10 + rho3*(-x10 + cos(t)) + rho4*(rho3*(-x9 + sin(t)) - x10 + cos(t)) - x9)/(a11*x12 + g + rho5*(0.5 - x12) + rho6*(rho5*(0.5*t - x11) - x12 + 0.5) + 0.5*t - x11))*cos(sin(0.5*t)) + (0.5*sin(sin(0.5*t))*cos(0.5*t) - 0.5*cos(0.5*t)*cos(sin(0.5*t)))*(a10*x10 + rho3*(-x10 + cos(t)) + rho4*(rho3*(-x9 + sin(t)) - x10 + cos(t)) - x9) + (-rho1*cos(t) + rho2*(-rho1*sin(t) - cos(t)) + (-rho3*sin(t) + rho4*(rho3*cos(t) - sin(t)))/(a11*x12 + g + rho5*(0.5 - x12) + rho6*(rho5*(0.5*t - x11) - x12 + 0.5) + 0.5*t - x11) + (-0.5*rho5*rho6 - 0.5)*(a10*x10 + rho3*(-x10 + cos(t)) + rho4*(rho3*(-x9 + sin(t)) - x10 + cos(t)) - x9)/(a11*x12 + g + rho5*(0.5 - x12) + rho6*(rho5*(0.5*t - x11) - x12 + 0.5) + 0.5*t - x11)**2)*(a11*x12 + g + rho5*(0.5 - x12) + rho6*(rho5*(0.5*t - x11) - x12 + 0.5) + 0.5*t - x11)*cos(sin(0.5*t)) - 0.5*(a9*x8 + rho1*(-x8 - sin(t)) + rho2*(rho1*(-x7 + cos(t)) - x8 - sin(t)) - x7 + (a10*x10 + rho3*(-x10 + cos(t)) + rho4*(rho3*(-x9 + sin(t)) - x10 + cos(t)) - x9)/(a11*x12 + g + rho5*(0.5 - x12) + rho6*(rho5*(0.5*t - x11) - x12 + 0.5) + 0.5*t - x11))*(a11*x12 + g + rho5*(0.5 - x12) + rho6*(rho5*(0.5*t - x11) - x12 + 0.5) + 0.5*t - x11)*sin(sin(0.5*t))*cos(0.5*t))*(a11*x12 + g + rho5*(0.5 - x12) + rho6*(rho5*(0.5*t - x11) - x12 + 0.5) + 0.5*t - x11)*cos(sin(0.5*t))/(((-(sin(sin(0.5*t)) + cos(sin(0.5*t)))*(a10*x10 + rho3*(-x10 + cos(t)) + rho4*(rho3*(-x9 + sin(t)) - x10 + cos(t)) - x9) + (a9*x8 + rho1*(-x8 - sin(t)) + rho2*(rho1*(-x7 + cos(t)) - x8 - sin(t)) - x7 + (a10*x10 + rho3*(-x10 + cos(t)) + rho4*(rho3*(-x9 + sin(t)) - x10 + cos(t)) - x9)/(a11*x12 + g + rho5*(0.5 - x12) + rho6*(rho5*(0.5*t - x11) - x12 + 0.5) + 0.5*t - x11))*(a11*x12 + g + rho5*(0.5 - x12) + rho6*(rho5*(0.5*t - x11) - x12 + 0.5) + 0.5*t - x11)*cos(sin(0.5*t)))**2 + ((sin(sin(0.5*t)) + cos(sin(0.5*t)))**2 + (a9*x8 + rho1*(-x8 - sin(t)) + rho2*(rho1*(-x7 + cos(t)) - x8 - sin(t)) - x7 + (a10*x10 + rho3*(-x10 + cos(t)) + rho4*(rho3*(-x9 + sin(t)) - x10 + cos(t)) - x9)/(a11*x12 + g + rho5*(0.5 - x12) + rho6*(rho5*(0.5*t - x11) - x12 + 0.5) + 0.5*t - x11))**2)*(a11*x12 + g + rho5*(0.5 - x12) + rho6*(rho5*(0.5*t - x11) - x12 + 0.5) + 0.5*t - x11)**2*cos(sin(0.5*t))**2)*sqrt((sin(sin(0.5*t)) + cos(sin(0.5*t)))**2 + (a9*x8 + rho1*(-x8 - sin(t)) + rho2*(rho1*(-x7 + cos(t)) - x8 - sin(t)) - x7 + (a10*x10 + rho3*(-x10 + cos(t)) + rho4*(rho3*(-x9 + sin(t)) - x10 + cos(t)) - x9)/(a11*x12 + g + rho5*(0.5 - x12) + rho6*(rho5*(0.5*t - x11) - x12 + 0.5) + 0.5*t - x11))**2)) + ((sin(sin(0.5*t)) + cos(sin(0.5*t)))*(a10*x10 + rho3*(-x10 + cos(t)) + rho4*(rho3*(-x9 + sin(t)) - x10 + cos(t)) - x9) - (a9*x8 + rho1*(-x8 - sin(t)) + rho2*(rho1*(-x7 + cos(t)) - x8 - sin(t)) - x7 + (a10*x10 + rho3*(-x10 + cos(t)) + rho4*(rho3*(-x9 + sin(t)) - x10 + cos(t)) - x9)/(a11*x12 + g + rho5*(0.5 - x12) + rho6*(rho5*(0.5*t - x11) - x12 + 0.5) + 0.5*t - x11))*(a11*x12 + g + rho5*(0.5 - x12) + rho6*(rho5*(0.5*t - x11) - x12 + 0.5) + 0.5*t - x11)*cos(sin(0.5*t)))*(2*(0.5*rho5*rho6 + 0.5)*((-1.0*sin(sin(0.5*t))*cos(0.5*t) + cos(0.5*t)*cos(sin(0.5*t)))*(sin(sin(0.5*t)) + cos(sin(0.5*t)))/2 + (-2*rho1*cos(t) + 2*rho2*(-rho1*sin(t) - cos(t)) + 2*(-rho3*sin(t) + rho4*(rho3*cos(t) - sin(t)))/(a11*x12 + g + rho5*(0.5 - x12) + rho6*(rho5*(0.5*t - x11) - x12 + 0.5) + 0.5*t - x11) + 2*(-0.5*rho5*rho6 - 0.5)*(a10*x10 + rho3*(-x10 + cos(t)) + rho4*(rho3*(-x9 + sin(t)) - x10 + cos(t)) - x9)/(a11*x12 + g + rho5*(0.5 - x12) + rho6*(rho5*(0.5*t - x11) - x12 + 0.5) + 0.5*t - x11)**2)*(a9*x8 + rho1*(-x8 - sin(t)) + rho2*(rho1*(-x7 + cos(t)) - x8 - sin(t)) - x7 + (a10*x10 + rho3*(-x10 + cos(t)) + rho4*(rho3*(-x9 + sin(t)) - x10 + cos(t)) - x9)/(a11*x12 + g + rho5*(0.5 - x12) + rho6*(rho5*(0.5*t - x11) - x12 + 0.5) + 0.5*t - x11))/2)*cos(sin(0.5*t))/sqrt((sin(sin(0.5*t)) + cos(sin(0.5*t)))**2 + (a9*x8 + rho1*(-x8 - sin(t)) + rho2*(rho1*(-x7 + cos(t)) - x8 - sin(t)) - x7 + (a10*x10 + rho3*(-x10 + cos(t)) + rho4*(rho3*(-x9 + sin(t)) - x10 + cos(t)) - x9)/(a11*x12 + g + rho5*(0.5 - x12) + rho6*(rho5*(0.5*t - x11) - x12 + 0.5) + 0.5*t - x11))**2) - 1.0*(0.5*rho5*rho6 + 0.5)*sqrt((sin(sin(0.5*t)) + cos(sin(0.5*t)))**2 + (a9*x8 + rho1*(-x8 - sin(t)) + rho2*(rho1*(-x7 + cos(t)) - x8 - sin(t)) - x7 + (a10*x10 + rho3*(-x10 + cos(t)) + rho4*(rho3*(-x9 + sin(t)) - x10 + cos(t)) - x9)/(a11*x12 + g + rho5*(0.5 - x12) + rho6*(rho5*(0.5*t - x11) - x12 + 0.5) + 0.5*t - x11))**2)*sin(sin(0.5*t))*cos(0.5*t) + (-(-1.0*sin(sin(0.5*t))*cos(0.5*t) + cos(0.5*t)*cos(sin(0.5*t)))*(sin(sin(0.5*t)) + cos(sin(0.5*t)))/2 - (-2*rho1*cos(t) + 2*rho2*(-rho1*sin(t) - cos(t)) + 2*(-rho3*sin(t) + rho4*(rho3*cos(t) - sin(t)))/(a11*x12 + g + rho5*(0.5 - x12) + rho6*(rho5*(0.5*t - x11) - x12 + 0.5) + 0.5*t - x11) + 2*(-0.5*rho5*rho6 - 0.5)*(a10*x10 + rho3*(-x10 + cos(t)) + rho4*(rho3*(-x9 + sin(t)) - x10 + cos(t)) - x9)/(a11*x12 + g + rho5*(0.5 - x12) + rho6*(rho5*(0.5*t - x11) - x12 + 0.5) + 0.5*t - x11)**2)*(a9*x8 + rho1*(-x8 - sin(t)) + rho2*(rho1*(-x7 + cos(t)) - x8 - sin(t)) - x7 + (a10*x10 + rho3*(-x10 + cos(t)) + rho4*(rho3*(-x9 + sin(t)) - x10 + cos(t)) - x9)/(a11*x12 + g + rho5*(0.5 - x12) + rho6*(rho5*(0.5*t - x11) - x12 + 0.5) + 0.5*t - x11))/2)*((-1.0*sin(sin(0.5*t))*cos(0.5*t) + cos(0.5*t)*cos(sin(0.5*t)))*(sin(sin(0.5*t)) + cos(sin(0.5*t)))/2 + (-2*rho1*cos(t) + 2*rho2*(-rho1*sin(t) - cos(t)) + 2*(-rho3*sin(t) + rho4*(rho3*cos(t) - sin(t)))/(a11*x12 + g + rho5*(0.5 - x12) + rho6*(rho5*(0.5*t - x11) - x12 + 0.5) + 0.5*t - x11) + 2*(-0.5*rho5*rho6 - 0.5)*(a10*x10 + rho3*(-x10 + cos(t)) + rho4*(rho3*(-x9 + sin(t)) - x10 + cos(t)) - x9)/(a11*x12 + g + rho5*(0.5 - x12) + rho6*(rho5*(0.5*t - x11) - x12 + 0.5) + 0.5*t - x11)**2)*(a9*x8 + rho1*(-x8 - sin(t)) + rho2*(rho1*(-x7 + cos(t)) - x8 - sin(t)) - x7 + (a10*x10 + rho3*(-x10 + cos(t)) + rho4*(rho3*(-x9 + sin(t)) - x10 + cos(t)) - x9)/(a11*x12 + g + rho5*(0.5 - x12) + rho6*(rho5*(0.5*t - x11) - x12 + 0.5) + 0.5*t - x11))/2)*(a11*x12 + g + rho5*(0.5 - x12) + rho6*(rho5*(0.5*t - x11) - x12 + 0.5) + 0.5*t - x11)*cos(sin(0.5*t))/((sin(sin(0.5*t)) + cos(sin(0.5*t)))**2 + (a9*x8 + rho1*(-x8 - sin(t)) + rho2*(rho1*(-x7 + cos(t)) - x8 - sin(t)) - x7 + (a10*x10 + rho3*(-x10 + cos(t)) + rho4*(rho3*(-x9 + sin(t)) - x10 + cos(t)) - x9)/(a11*x12 + g + rho5*(0.5 - x12) + rho6*(rho5*(0.5*t - x11) - x12 + 0.5) + 0.5*t - x11))**2)**(3/2) - 1.0*((-1.0*sin(sin(0.5*t))*cos(0.5*t) + cos(0.5*t)*cos(sin(0.5*t)))*(sin(sin(0.5*t)) + cos(sin(0.5*t)))/2 + (-2*rho1*cos(t) + 2*rho2*(-rho1*sin(t) - cos(t)) + 2*(-rho3*sin(t) +    rho4*(rho3*cos(t) - sin(t)))/(a11*x12 + g + rho5*(0.5 - x12) + rho6*(rho5*(0.5*t - x11) - x12 + 0.5) + 0.5*t - x11) + 2*(-0.5*rho5*rho6 - 0.5)*(a10*x10 + rho3*(-x10 + cos(t)) + rho4*(rho3*(-x9 + sin(t)) - x10 + cos(t)) - x9)/(a11*x12 + g + rho5*(0.5 - x12) + rho6*(rho5*(0.5*t - x11) - x12 + 0.5) + 0.5*t - x11)**2)*(a9*x8 + rho1*(-x8 - sin(t)) + rho2*(rho1*(-x7 + cos(t)) - x8 - sin(t)) - x7 + (a10*x10 + rho3*(-x10 + cos(t)) + rho4*(rho3*(-x9 + sin(t)) - x10 + cos(t)) - x9)/(a11*x12 + g + rho5*(0.5 - x12) + rho6*(rho5*(0.5*t - x11) - x12 + 0.5) + 0.5*t - x11))/2)*(a11*x12 + g + rho5*(0.5 - x12) + rho6*(rho5*(0.5*t - x11) - x12 + 0.5) + 0.5*t - x11)*sin(sin(0.5*t))*cos(0.5*t)/sqrt((sin(sin(0.5*t)) + cos(sin(0.5*t)))**2 + (a9*x8 + rho1*(-x8 - sin(t)) + rho2*(rho1*(-x7 + cos(t)) - x8 - sin(t)) - x7 + (a10*x10 + rho3*(-x10 + cos(t)) + rho4*(rho3*(-x9 + sin(t)) - x10 + cos(t)) - x9)/(a11*x12 + g + rho5*(0.5 - x12) + rho6*(rho5*(0.5*t - x11) - x12 + 0.5) + 0.5*t - x11))**2) + 0.25*sqrt((sin(sin(0.5*t)) + cos(sin(0.5*t)))**2 + (a9*x8 + rho1*(-x8 - sin(t)) + rho2*(rho1*(-x7 + cos(t)) - x8 - sin(t)) - x7 + (a10*x10 + rho3*(-x10 + cos(t)) + rho4*(rho3*(-x9 + sin(t)) - x10 + cos(t)) - x9)/(a11*x12 + g + rho5*(0.5 - x12) + rho6*(rho5*(0.5*t - x11) - x12 + 0.5) + 0.5*t - x11))**2)*(a11*x12 + g + rho5*(0.5 - x12) + rho6*(rho5*(0.5*t - x11) - x12 + 0.5) + 0.5*t - x11)*sin(0.5*t)*sin(sin(0.5*t)) - 0.25*sqrt((sin(sin(0.5*t)) + cos(sin(0.5*t)))**2 + (a9*x8 + rho1*(-x8 - sin(t)) + rho2*(rho1*(-x7 + cos(t)) - x8 - sin(t)) - x7 + (a10*x10 + rho3*(-x10 + cos(t)) + rho4*(rho3*(-x9 + sin(t)) - x10 + cos(t)) - x9)/(a11*x12 + g + rho5*(0.5 - x12) + rho6*(rho5*(0.5*t - x11) - x12 + 0.5) + 0.5*t - x11))**2)*(a11*x12 + g + rho5*(0.5 - x12) + rho6*(rho5*(0.5*t - x11) - x12 + 0.5) + 0.5*t - x11)*cos(0.5*t)**2*cos(sin(0.5*t)) + ((-0.5*sin(sin(0.5*t))*cos(0.5*t) + cos(0.5*t)*cos(sin(0.5*t))/2)*(-0.5*sin(sin(0.5*t))*cos(0.5*t) + 0.5*cos(0.5*t)*cos(sin(0.5*t))) + (sin(sin(0.5*t)) + cos(sin(0.5*t)))*(0.25*sin(0.5*t)*sin(sin(0.5*t)) - 0.25*sin(0.5*t)*cos(sin(0.5*t)) - 0.25*sin(sin(0.5*t))*cos(0.5*t)**2 - 0.25*cos(0.5*t)**2*cos(sin(0.5*t))) + (-rho1*cos(t) + rho2*(-rho1*sin(t) - cos(t)) + (-rho3*sin(t) + rho4*(rho3*cos(t) - sin(t)))/(a11*x12 + g + rho5*(0.5 - x12) + rho6*(rho5*(0.5*t - x11) - x12 + 0.5) + 0.5*t - x11) + (-0.5*rho5*rho6 - 0.5)*(a10*x10 + rho3*(-x10 + cos(t)) + rho4*(rho3*(-x9 + sin(t)) - x10 + cos(t)) - x9)/(a11*x12 + g + rho5*(0.5 - x12) + rho6*(rho5*(0.5*t - x11) - x12 + 0.5) + 0.5*t - x11)**2)**2 + (a9*x8 + rho1*(-x8 - sin(t)) + rho2*(rho1*(-x7 + cos(t)) - x8 - sin(t)) - x7 + (a10*x10 + rho3*(-x10 + cos(t)) + rho4*(rho3*(-x9 + sin(t)) - x10 + cos(t)) - x9)/(a11*x12 + g + rho5*(0.5 - x12) + rho6*(rho5*(0.5*t - x11) - x12 + 0.5) + 0.5*t - x11))*(rho1*sin(t) + rho2*(-rho1*cos(t) + sin(t)) + 2*(-rho3*sin(t) + rho4*(rho3*cos(t) - sin(t)))*(-0.5*rho5*rho6 - 0.5)/(a11*x12 + g + rho5*(0.5 - x12) + rho6*(rho5*(0.5*t - x11) - x12 + 0.5) + 0.5*t - x11)**2 + (-rho3*cos(t) + rho4*(-rho3*sin(t) - cos(t)))/(a11*x12 + g + rho5*(0.5 - x12) + rho6*(rho5*(0.5*t - x11) - x12 + 0.5) + 0.5*t - x11) + (-1.0*rho5*rho6 - 1.0)*(-0.5*rho5*rho6 - 0.5)*(a10*x10 + rho3*(-x10 + cos(t)) + rho4*(rho3*(-x9 + sin(t)) - x10 + cos(t)) - x9)/(a11*x12 + g + rho5*(0.5 - x12) + rho6*(rho5*(0.5*t - x11) - x12 + 0.5) + 0.5*t - x11)**3))*(a11*x12 + g + rho5*(0.5 - x12) + rho6*(rho5*(0.5*t - x11) - x12 + 0.5) + 0.5*t - x11)*cos(sin(0.5*t))/sqrt((sin(sin(0.5*t)) + cos(sin(0.5*t)))**2 + (a9*x8 + rho1*(-x8 - sin(t)) + rho2*(rho1*(-x7 + cos(t)) - x8 - sin(t)) - x7 + (a10*x10 + rho3*(-x10 + cos(t)) + rho4*(rho3*(-x9 + sin(t)) - x10 + cos(t)) - x9)/(a11*x12 + g + rho5*(0.5 - x12) + rho6*(rho5*(0.5*t - x11) - x12 + 0.5) + 0.5*t - x11))**2))/((-(sin(sin(0.5*t)) + cos(sin(0.5*t)))*(a10*x10 + rho3*(-x10 + cos(t)) + rho4*(rho3*(-x9 + sin(t)) - x10 + cos(t)) - x9) + (a9*x8 + rho1*(-x8 - sin(t)) + rho2*(rho1*(-x7 + cos(t)) - x8 - sin(t)) - x7 + (a10*x10 + rho3*(-x10 + cos(t)) + rho4*(rho3*(-x9 + sin(t)) - x10 + cos(t)) - x9)/(a11*x12 + g + rho5*(0.5 - x12) + rho6*(rho5*(0.5*t - x11) - x12 + 0.5) + 0.5*t - x11))*(a11*x12 + g + rho5*(0.5 - x12) + rho6*(rho5*(0.5*t - x11) - x12 + 0.5) + 0.5*t - x11)*cos(sin(0.5*t)))**2 + ((sin(sin(0.5*t)) + cos(sin(0.5*t)))**2 + (a9*x8 + rho1*(-x8 - sin(t)) + rho2*(rho1*(-x7 + cos(t)) - x8 - sin(t)) - x7 + (a10*x10 + rho3*(-x10 + cos(t)) + rho4*(rho3*(-x9 + sin(t)) - x10 + cos(t)) - x9)/(a11*x12 + g + rho5*(0.5 - x12) + rho6*(rho5*(0.5*t - x11) - x12 + 0.5) + 0.5*t - x11))**2)*(a11*x12 + g + rho5*(0.5 - x12) + rho6*(rho5*(0.5*t - x11) - x12 + 0.5) + 0.5*t - x11)**2*cos(sin(0.5*t))**2) + ((sin(sin(0.5*t)) + cos(sin(0.5*t)))*(a10*x10 + rho3*(-x10 + cos(t)) + rho4*(rho3*(-x9 + sin(t)) - x10 + cos(t)) - x9) - (a9*x8 + rho1*(-x8 - sin(t)) + rho2*(rho1*(-x7 + cos(t)) - x8 - sin(t)) - x7 + (a10*x10 + rho3*(-x10 + cos(t)) + rho4*(rho3*(-x9 + sin(t)) - x10 + cos(t)) - x9)/(a11*x12 + g + rho5*(0.5 - x12) + rho6*(rho5*(0.5*t - x11) - x12 + 0.5) + 0.5*t - x11))*(a11*x12 + g + rho5*(0.5 - x12) + rho6*(rho5*(0.5*t - x11) - x12 + 0.5) + 0.5*t - x11)*cos(sin(0.5*t)))*((0.5*rho5*rho6 + 0.5)*sqrt((sin(sin(0.5*t)) + cos(sin(0.5*t)))**2 + (a9*x8 + rho1*(-x8 - sin(t)) + rho2*(rho1*(-x7 + cos(t)) - x8 - sin(t)) - x7 + (a10*x10 + rho3*(-x10 + cos(t)) + rho4*(rho3*(-x9 + sin(t)) - x10 + cos(t)) - x9)/(a11*x12 + g + rho5*(0.5 - x12) + rho6*(rho5*(0.5*t - x11) - x12 + 0.5) + 0.5*t - x11))**2)*cos(sin(0.5*t)) + ((-1.0*sin(sin(0.5*t))*cos(0.5*t) + cos(0.5*t)*cos(sin(0.5*t)))*(sin(sin(0.5*t)) + cos(sin(0.5*t)))/2 + (-2*rho1*cos(t) + 2*rho2*(-rho1*sin(t) - cos(t)) + 2*(-rho3*sin(t) + rho4*(rho3*cos(t) - sin(t)))/(a11*x12 + g + rho5*(0.5 - x12) + rho6*(rho5*(0.5*t - x11) - x12 + 0.5) + 0.5*t - x11) + 2*(-0.5*rho5*rho6 - 0.5)*(a10*x10 + rho3*(-x10 + cos(t)) + rho4*(rho3*(-x9 + sin(t)) - x10 + cos(t)) - x9)/(a11*x12 + g + rho5*(0.5 - x12) + rho6*(rho5*(0.5*t - x11) - x12 + 0.5) + 0.5*t - x11)**2)*(a9*x8 + rho1*(-x8 - sin(t)) + rho2*(rho1*(-x7 + cos(t)) - x8 - sin(t)) - x7 + (a10*x10 + rho3*(-x10 + cos(t)) + rho4*(rho3*(-x9 + sin(t)) - x10 + cos(t)) - x9)/(a11*x12 + g + rho5*(0.5 - x12) + rho6*(rho5*(0.5*t - x11) - x12 + 0.5) + 0.5*t - x11))/2)*(a11*x12 + g + rho5*(0.5 - x12) + rho6*(rho5*(0.5*t - x11) - x12 + 0.5) + 0.5*t - x11)*cos(sin(0.5*t))/sqrt((sin(sin(0.5*t)) + cos(sin(0.5*t)))**2 + (a9*x8 + rho1*(-x8 - sin(t)) + rho2*(rho1*(-x7 + cos(t)) - x8 - sin(t)) - x7 + (a10*x10 + rho3*(-x10 + cos(t)) + rho4*(rho3*(-x9 + sin(t)) - x10 + cos(t)) - x9)/(a11*x12 + g + rho5*(0.5 - x12) + rho6*(rho5*(0.5*t - x11) - x12 + 0.5) + 0.5*t - x11))**2) - 0.5*sqrt((sin(sin(0.5*t)) + cos(sin(0.5*t)))**2 + (a9*x8 + rho1*(-x8 - sin(t)) + rho2*(rho1*(-x7 + cos(t)) - x8 - sin(t)) - x7 + (a10*x10 + rho3*(-x10 + cos(t)) + rho4*(rho3*(-x9 + sin(t)) - x10 + cos(t)) - x9)/(a11*x12 + g + rho5*(0.5 - x12) + rho6*(rho5*(0.5*t - x11) - x12 + 0.5) + 0.5*t - x11))**2)*(a11*x12 + g + rho5*(0.5 - x12) + rho6*(rho5*(0.5*t - x11) - x12 + 0.5) + 0.5*t - x11)*sin(sin(0.5*t))*cos(0.5*t))*(-(rho5*rho6 + 1.0)*((sin(sin(0.5*t)) + cos(sin(0.5*t)))**2 + (a9*x8 + rho1*(-x8 - sin(t)) + rho2*(rho1*(-x7 + cos(t)) - x8 - sin(t)) - x7 + (a10*x10 + rho3*(-x10 + cos(t)) + rho4*(rho3*(-x9 + sin(t)) - x10 + cos(t)) - x9)/(a11*x12 + g + rho5*(0.5 - x12) + rho6*(rho5*(0.5*t - x11) - x12 + 0.5) + 0.5*t - x11))**2)*(a11*x12 + g + rho5*(0.5 - x12) + rho6*(rho5*(0.5*t - x11) - x12 + 0.5) + 0.5*t - x11)*cos(sin(0.5*t))**2 - ((-1.0*sin(sin(0.5*t))*cos(0.5*t) + cos(0.5*t)*cos(sin(0.5*t)))*(sin(sin(0.5*t)) + cos(sin(0.5*t))) + (-2*rho1*cos(t) + 2*rho2*(-rho1*sin(t) - cos(t)) + 2*(-rho3*sin(t) + rho4*(rho3*cos(t) - sin(t)))/(a11*x12 + g + rho5*(0.5 - x12) + rho6*(rho5*(0.5*t - x11) - x12 + 0.5) + 0.5*t - x11) + 2*(-0.5*rho5*rho6 - 0.5)*(a10*x10 + rho3*(-x10 + cos(t)) + rho4*(rho3*(-x9 + sin(t)) - x10 + cos(t)) - x9)/(a11*x12 + g + rho5*(0.5 - x12) + rho6*(rho5*(0.5*t - x11) - x12 + 0.5) + 0.5*t - x11)**2)*(a9*x8 + rho1*(-x8 - sin(t)) + rho2*(rho1*(-x7 + cos(t)) - x8 - sin(t)) - x7 + (a10*x10 + rho3*(-x10 + cos(t)) + rho4*(rho3*(-x9 + sin(t)) - x10 + cos(t)) - x9)/(a11*x12 + g + rho5*(0.5 - x12) + rho6*(rho5*(0.5*t - x11) - x12 + 0.5) + 0.5*t - x11)))*(a11*x12 + g + rho5*(0.5 - x12) + rho6*(rho5*(0.5*t - x11) - x12 + 0.5) + 0.5*t - x11)**2*cos(sin(0.5*t))**2 - (-(sin(sin(0.5*t)) + cos(sin(0.5*t)))*(a10*x10 + rho3*(-x10 + cos(t)) + rho4*(rho3*(-x9 + sin(t)) - x10 + cos(t)) - x9) + (a9*x8 + rho1*(-x8 - sin(t)) + rho2*(rho1*(-x7 + cos(t)) - x8 - sin(t)) - x7 + (a10*x10 + rho3*(-x10 + cos(t)) + rho4*(rho3*(-x9 + sin(t)) - x10 + cos(t)) - x9)/(a11*x12 + g + rho5*(0.5 - x12) + rho6*(rho5*(0.5*t - x11) - x12 + 0.5) + 0.5*t - x11))*(a11*x12 + g + rho5*(0.5 - x12) + rho6*(rho5*(0.5*t - x11) - x12 + 0.5) + 0.5*t - x11)*cos(sin(0.5*t)))*(2*(-rho3*sin(t) + rho4*(rho3*cos(t) - sin(t)))*(-sin(sin(0.5*t)) - cos(sin(0.5*t))) + 2*(0.5*rho5*rho6 + 0.5)*(a9*x8 + rho1*(-x8 - sin(t)) + rho2*(rho1*(-x7 + cos(t)) - x8 - sin(t)) - x7 + (a10*x10 + rho3*(-x10 + cos(t)) + rho4*(rho3*(-x9 + sin(t)) - x10 + cos(t)) - x9)/(a11*x12 + g + rho5*(0.5 - x12) + rho6*(rho5*(0.5*t - x11) - x12 + 0.5) + 0.5*t - x11))*cos(sin(0.5*t)) + 2*(0.5*sin(sin(0.5*t))*cos(0.5*t) - 0.5*cos(0.5*t)*cos(sin(0.5*t)))*(a10*x10 + rho3*(-x10 + cos(t)) + rho4*(rho3*(-x9 + sin(t)) - x10 + cos(t)) - x9) + 2*(-rho1*cos(t) + rho2*(-rho1*sin(t) - cos(t)) + (-rho3*sin(t) + rho4*(rho3*cos(t) - sin(t)))/(a11*x12 + g + rho5*(0.5 - x12) + rho6*(rho5*(0.5*t - x11) - x12 + 0.5) + 0.5*t - x11) + (-0.5*rho5*rho6 - 0.5)*(a10*x10 + rho3*(-x10 + cos(t)) + rho4*(rho3*(-x9 + sin(t)) - x10 + cos(t)) - x9)/(a11*x12 + g + rho5*(0.5 - x12) + rho6*(rho5*(0.5*t - x11) - x12 + 0.5) + 0.5*t - x11)**2)*(a11*x12 + g + rho5*(0.5 - x12) + rho6*(rho5*(0.5*t - x11) - x12 + 0.5) + 0.5*t - x11)*cos(sin(0.5*t)) - 1.0*(a9*x8 + rho1*(-x8 - sin(t)) + rho2*(rho1*(-x7 + cos(t)) - x8 - sin(t)) - x7 + (a10*x10 + rho3*(-x10 + cos(t)) + rho4*(rho3*(-x9 + sin(t)) - x10 + cos(t)) - x9)/(a11*x12 + g + rho5*(0.5 - x12) + rho6*(rho5*(0.5*t - x11) - x12 + 0.5) + 0.5*t - x11))*(a11*x12 + g + rho5*(0.5 - x12) + rho6*(rho5*(0.5*t - x11) - x12 + 0.5) + 0.5*t - x11)*sin(sin(0.5*t))*cos(0.5*t)) + 1.0*((sin(sin(0.5*t)) + cos(sin(0.5*t)))**2 + (a9*x8 + rho1*(-x8 - sin(t)) + rho2*(rho1*(-x7 + cos(t)) - x8 - sin(t)) - x7 + (a10*x10 + rho3*(-x10 + cos(t)) + rho4*(rho3*(-x9 + sin(t)) - x10 + cos(t)) - x9)/(a11*x12 + g + rho5*(0.5 - x12) + rho6*(rho5*(0.5*t - x11) - x12 + 0.5) + 0.5*t - x11))**2)*(a11*x12 + g + rho5*(0.5 - x12) + rho6*(rho5*(0.5*t - x11) - x12 + 0.5) + 0.5*t - x11)**2*sin(sin(0.5*t))*cos(0.5*t)*cos(sin(0.5*t)))/((-(sin(sin(0.5*t)) + cos(sin(0.5*t)))*(a10*x10 + rho3*(-x10 + cos(t)) + rho4*(rho3*(-x9 + sin(t)) - x10 + cos(t)) - x9) + (a9*x8 + rho1*(-x8 - sin(t)) + rho2*(rho1*(-x7 + cos(t)) - x8 - sin(t)) - x7 + (a10*x10 + rho3*(-x10 + cos(t)) + rho4*(rho3*(-x9 + sin(t)) - x10 + cos(t)) - x9)/(a11*x12 + g + rho5*(0.5 - x12) + rho6*(rho5*(0.5*t - x11) - x12 + 0.5) + 0.5*t - x11))*(a11*x12 + g + rho5*(0.5 - x12) + rho6*(rho5*(0.5*t - x11) - x12 + 0.5) + 0.5*t - x11)*cos(sin(0.5*t)))**2 + ((sin(sin(0.5*t)) + cos(sin(0.5*t)))**2 + (a9*x8 + rho1*(-x8 - sin(t)) + rho2*(rho1*(-x7 + cos(t)) - x8 - sin(t)) - x7 + (a10*x10 + rho3*(-x10 + cos(t)) + rho4*(rho3*(-x9 + sin(t)) - x10 + cos(t)) - x9)/(a11*x12 + g + rho5*(0.5 - x12) + rho6*(rho5*(0.5*t - x11) - x12 + 0.5) + 0.5*t - x11))**2)*(a11*x12 + g + rho5*(0.5 - x12) + rho6*(rho5*(0.5*t - x11) - x12 + 0.5) + 0.5*t - x11)**2*cos(sin(0.5*t))**2)**2 - 0.5*sqrt((sin(sin(0.5*t)) + cos(sin(0.5*t)))**2 + (a9*x8 + rho1*(-x8 - sin(t)) + rho2*(rho1*(-x7 + cos(t)) - x8 - sin(t)) - x7 + (a10*x10 + rho3*(-x10 + cos(t)) + rho4*(rho3*(-x9 + sin(t)) - x10 + cos(t)) - x9)/(a11*x12 + g + rho5*(0.5 - x12) + rho6*(rho5*(0.5*t - x11) - x12 + 0.5) + 0.5*t - x11))**2)*((-rho3*sin(t) + rho4*(rho3*cos(t) - sin(t)))*(-sin(sin(0.5*t)) - cos(sin(0.5*t))) + (0.5*rho5*rho6 + 0.5)*(a9*x8 + rho1*(-x8 - sin(t)) + rho2*(rho1*(-x7 + cos(t)) - x8 - sin(t)) - x7 + (a10*x10 + rho3*(-x10 + cos(t)) + rho4*(rho3*(-x9 + sin(t)) - x10 + cos(t)) - x9)/(a11*x12 + g + rho5*(0.5 - x12) + rho6*(rho5*(0.5*t - x11) - x12 + 0.5) + 0.5*t - x11))*cos(sin(0.5*t)) + (0.5*sin(sin(0.5*t))*cos(0.5*t) - 0.5*cos(0.5*t)*cos(sin(0.5*t)))*(a10*x10 + rho3*(-x10 + cos(t)) + rho4*(rho3*(-x9 + sin(t)) - x10 + cos(t)) - x9) + (-rho1*cos(t) + rho2*(-rho1*sin(t) - cos(t)) + (-rho3*sin(t) + rho4*(rho3*cos(t) - sin(t)))/(a11*x12 + g + rho5*(0.5 - x12) + rho6*(rho5*(0.5*t - x11) - x12 + 0.5) + 0.5*t - x11) + (-0.5*rho5*rho6 - 0.5)*(a10*x10 + rho3*(-x10 + cos(t)) + rho4*(rho3*(-x9 + sin(t)) - x10 + cos(t)) - x9)/(a11*x12 + g + rho5*(0.5 - x12) + rho6*(rho5*(0.5*t - x11) - x12 + 0.5) + 0.5*t - x11)**2)*(a11*x12 + g + rho5*(0.5 - x12) + rho6*(rho5*(0.5*t - x11) - x12 + 0.5) + 0.5*t - x11)*cos(sin(0.5*t)) - 0.5*(a9*x8 + rho1*(-x8 - sin(t)) + rho2*(rho1*(-x7 + cos(t)) - x8 - sin(t)) - x7 + (a10*x10 + rho3*(-x10 + cos(t)) + rho4*(rho3*(-x9 + sin(t)) - x10 + cos(t)) - x9)/(a11*x12 + g + rho5*(0.5 - x12) + rho6*(rho5*(0.5*t - x11) - x12 + 0.5) + 0.5*t - x11))*(a11*x12 + g + rho5*(0.5 - x12) + rho6*(rho5*(0.5*t - x11) - x12 + 0.5) + 0.5*t - x11)*sin(sin(0.5*t))*cos(0.5*t))*(a11*x12 + g + rho5*(0.5 - x12) + rho6*(rho5*(0.5*t - x11) - x12 + 0.5) + 0.5*t - x11)*sin(sin(0.5*t))*cos(0.5*t)/((-(sin(sin(0.5*t)) + cos(sin(0.5*t)))*(a10*x10 + rho3*(-x10 + cos(t)) + rho4*(rho3*(-x9 + sin(t)) - x10 + cos(t)) - x9) + (a9*x8 + rho1*(-x8 - sin(t)) + rho2*(rho1*(-x7 + cos(t)) - x8 - sin(t)) - x7 + (a10*x10 + rho3*(-x10 + cos(t)) + rho4*(rho3*(-x9 + sin(t)) - x10 + cos(t)) - x9)/(a11*x12 + g + rho5*(0.5 - x12) + rho6*(rho5*(0.5*t - x11) - x12 + 0.5) + 0.5*t - x11))*(a11*x12 + g + rho5*(0.5 - x12) + rho6*(rho5*(0.5*t - x11) - x12 + 0.5) + 0.5*t - x11)*cos(sin(0.5*t)))**2 + ((sin(sin(0.5*t)) + cos(sin(0.5*t)))**2 + (a9*x8 + rho1*(-x8 - sin(t)) + rho2*(rho1*(-x7 + cos(t)) - x8 - sin(t)) - x7 + (a10*x10 + rho3*(-x10 + cos(t)) + rho4*(rho3*(-x9 + sin(t)) - x10 + cos(t)) - x9)/(a11*x12 + g + rho5*(0.5 - x12) + rho6*(rho5*(0.5*t - x11) - x12 + 0.5) + 0.5*t - x11))**2)*(a11*x12 + g + rho5*(0.5 - x12) + rho6*(rho5*(0.5*t - x11) - x12 + 0.5) + 0.5*t - x11)**2*cos(sin(0.5*t))**2) + sqrt((sin(sin(0.5*t)) + cos(sin(0.5*t)))**2 + (a9*x8 + rho1*(-x8 - sin(t)) + rho2*(rho1*(-x7 + cos(t)) - x8 - sin(t)) - x7 + (a10*x10 + rho3*(-x10 + cos(t)) + rho4*(rho3*(-x9 + sin(t)) - x10 + cos(t)) - x9)/(a11*x12 + g + rho5*(0.5 - x12) + rho6*(rho5*(0.5*t - x11) - x12 + 0.5) + 0.5*t - x11))**2)*(a11*x12 + g + rho5*(0.5 - x12) + rho6*(rho5*(0.5*t - x11) - x12 + 0.5) + 0.5*t - x11)*(2*(-rho3*sin(t) + rho4*(rho3*cos(t) - sin(t)))*(0.5*sin(sin(0.5*t))*cos(0.5*t) - 0.5*cos(0.5*t)*cos(sin(0.5*t))) + (-rho3*cos(t) + rho4*(-rho3*sin(t) - cos(t)))*(-sin(sin(0.5*t)) - cos(sin(0.5*t))) + 2*(0.5*rho5*rho6 + 0.5)*(-rho1*cos(t) + rho2*(-rho1*sin(t) - cos(t)) + (-rho3*sin(t) + rho4*(rho3*cos(t) - sin(t)))/(a11*x12 + g + rho5*(0.5 - x12) + rho6*(rho5*(0.5*t - x11) - x12 + 0.5) + 0.5*t - x11) + (-0.5*rho5*rho6 - 0.5)*(a10*x10 + rho3*(-x10 + cos(t)) + rho4*(rho3*(-x9 + sin(t)) - x10 + cos(t)) - x9)/(a11*x12 + g + rho5*(0.5 - x12) + rho6*(rho5*(0.5*t - x11) - x12 + 0.5) + 0.5*t - x11)**2)*cos(sin(0.5*t)) + (0.5*rho5*rho6 + 0.5)*(-0.5*a9*x8 - 0.5*rho1*(-x8 - sin(t)) - 0.5*rho2*(rho1*(-x7 + cos(t)) - x8 - sin(t)) + 0.5*x7 - 0.5*(a10*x10 + rho3*(-x10 + cos(t)) + rho4*(rho3*(-x9 + sin(t)) - x10 + cos(t)) - x9)/(a11*x12 + g + rho5*(0.5 - x12) + rho6*(rho5*(0.5*t - x11) - x12 + 0.5) + 0.5*t - x11))*sin(sin(0.5*t))*cos(0.5*t) - 0.5*(0.5*rho5*rho6 + 0.5)*(a9*x8 + rho1*(-x8 - sin(t)) + rho2*(rho1*(-x7 + cos(t)) - x8 - sin(t)) - x7 + (a10*x10 + rho3*(-x10 + cos(t)) + rho4*(rho3*(-x9 + sin(t)) - x10 + cos(t)) - x9)/(a11*x12 + g + rho5*(0.5 - x12) + rho6*(rho5*(0.5*t - x11) - x12 + 0.5) + 0.5*t - x11))*sin(sin(0.5*t))*cos(0.5*t) + (a10*x10 + rho3*(-x10 + cos(t)) + rho4*(rho3*(-x9 + sin(t)) - x10 + cos(t)) - x9)*(-0.25*sin(0.5*t)*sin(sin(0.5*t)) + 0.25*sin(0.5*t)*cos(sin(0.5*t)) + 0.25*sin(sin(0.5*t))*cos(0.5*t)**2 + 0.25*cos(0.5*t)**2*cos(sin(0.5*t))) - 0.5*(-rho1*cos(t) + rho2*(-rho1*sin(t) - cos(t)) + (-rho3*sin(t) + rho4*(rho3*cos(t) - sin(t)))/(a11*x12 + g + rho5*(0.5 - x12) + rho6*(rho5*(0.5*t - x11) - x12 + 0.5) + 0.5*t - x11) + (-0.5*rho5*rho6 - 0.5)*(a10*x10 + rho3*(-x10 + cos(t)) + rho4*(rho3*(-x9 + sin(t)) - x10 + cos(t)) - x9)/(a11*x12 + g + rho5*(0.5 - x12) + rho6*(rho5*(0.5*t - x11) - x12 + 0.5) + 0.5*t - x11)**2)*(a11*x12 + g + rho5*(0.5 - x12) + rho6*(rho5*(0.5*t - x11) - x12 + 0.5) + 0.5*t - x11)*sin(sin(0.5*t))*cos(0.5*t) + (0.5*rho1*cos(t) - 0.5*rho2*(-rho1*sin(t) - cos(t)) - 0.5*(-rho3*sin(t) + rho4*(rho3*cos(t) - sin(t)))/(a11*x12 + g + rho5*(0.5 - x12) + rho6*(rho5*(0.5*t - x11) - x12 + 0.5) + 0.5*t - x11) - 0.5*(-0.5*rho5*rho6 - 0.5)*(a10*x10 + rho3*(-x10 + cos(t)) + rho4*(rho3*(-x9 + sin(t)) - x10 + cos(t)) - x9)/(a11*x12 + g + rho5*(0.5 - x12) + rho6*(rho5*(0.5*t - x11) - x12 + 0.5) + 0.5*t - x11)**2)*(a11*x12 + g + rho5*(0.5 - x12) + rho6*(rho5*(0.5*t - x11) - x12 + 0.5) + 0.5*t - x11)*sin(sin(0.5*t))*cos(0.5*t) - 0.5*(-0.5*a9*x8 - 0.5*rho1*(-x8 - sin(t)) - 0.5*rho2*(rho1*(-x7 + cos(t)) - x8 - sin(t)) + 0.5*x7 - 0.5*(a10*x10 + rho3*(-x10 + cos(t)) + rho4*(rho3*(-x9 + sin(t)) - x10 + cos(t)) - x9)/(a11*x12 + g + rho5*(0.5 - x12) + rho6*(rho5*(0.5*t - x11) - x12 + 0.5) + 0.5*t - x11))*(a11*x12 + g + rho5*(0.5 - x12) + rho6*(rho5*(0.5*t - x11) - x12 + 0.5) + 0.5*t - x11)*sin(0.5*t)*sin(sin(0.5*t)) + 0.5*(-0.5*a9*x8 - 0.5*rho1*(-x8 - sin(t)) - 0.5*rho2*(rho1*(-x7 + cos(t)) - x8 - sin(t)) + 0.5*x7 - 0.5*(a10*x10 + rho3*(-x10 + cos(t)) + rho4*(rho3*(-x9 + sin(t)) - x10 + cos(t)) - x9)/(a11*x12 + g + rho5*(0.5 - x12) + rho6*(rho5*(0.5*t - x11) - x12 + 0.5) + 0.5*t - x11))*(a11*x12 + g + rho5*(0.5 - x12) + rho6*(rho5*(0.5*t - x11) - x12 + 0.5) + 0.5*t - x11)*cos(0.5*t)**2*cos(sin(0.5*t)) + (rho1*sin(t) + rho2*(-rho1*cos(t) + sin(t)) + 2*(-rho3*sin(t) + rho4*(rho3*cos(t) - sin(t)))*(-0.5*rho5*rho6 - 0.5)/(a11*x12 + g + rho5*(0.5 - x12) + rho6*(rho5*(0.5*t - x11) - x12 + 0.5) + 0.5*t - x11)**2 + (-rho3*cos(t) + rho4*(-rho3*sin(t) - cos(t)))/(a11*x12 + g + rho5*(0.5 - x12) + rho6*(rho5*(0.5*t - x11) - x12 + 0.5) + 0.5*t - x11) + (-1.0*rho5*rho6 - 1.0)*(-0.5*rho5*rho6 - 0.5)*(a10*x10 + rho3*(-x10 + cos(t)) + rho4*(rho3*(-x9 + sin(t)) - x10 + cos(t)) - x9)/(a11*x12 + g + rho5*(0.5 - x12) + rho6*(rho5*(0.5*t - x11) - x12 + 0.5) + 0.5*t - x11)**3)*(a11*x12 + g + rho5*(0.5 - x12) + rho6*(rho5*(0.5*t - x11) - x12 + 0.5) + 0.5*t - x11)*cos(sin(0.5*t)))*cos(sin(0.5*t))/((-(sin(sin(0.5*t)) + cos(sin(0.5*t)))*(a10*x10 + rho3*(-x10 + cos(t)) + rho4*(rho3*(-x9 + sin(t)) - x10 + cos(t)) - x9) + (a9*x8 + rho1*(-x8 - sin(t)) + rho2*(rho1*(-x7 + cos(t)) - x8 - sin(t)) - x7 + (a10*x10 + rho3*(-x10 + cos(t)) + rho4*(rho3*(-x9 + sin(t)) - x10 + cos(t)) - x9)/(a11*x12 + g + rho5*(0.5 - x12) + rho6*(rho5*(0.5*t - x11) - x12 + 0.5) + 0.5*t - x11))*(a11*x12 + g + rho5*(0.5 - x12) + rho6*(rho5*(0.5*t - x11) - x12 + 0.5) + 0.5*t - x11)*cos(sin(0.5*t)))**2 + ((sin(sin(0.5*t)) + cos(sin(0.5*t)))**2 + (a9*x8 + rho1*(-x8 - sin(t)) + rho2*(rho1*(-x7 + cos(t)) - x8 - sin(t)) - x7 + (a10*x10 + rho3*(-x10 + cos(t)) + rho4*(rho3*(-x9 + sin(t)) - x10 + cos(t)) - x9)/(a11*x12 + g + rho5*(0.5 - x12) + rho6*(rho5*(0.5*t - x11) - x12 + 0.5) + 0.5*t - x11))**2)*(a11*x12 + g + rho5*(0.5 - x12) + rho6*(rho5*(0.5*t - x11) - x12 + 0.5) + 0.5*t - x11)**2*cos(sin(0.5*t))**2) + ((0.5*rho5*rho6 + 0.5)*sqrt((sin(sin(0.5*t)) + cos(sin(0.5*t)))**2 + (a9*x8 + rho1*(-x8 - sin(t)) + rho2*(rho1*(-x7 + cos(t)) - x8 - sin(t)) - x7 + (a10*x10 + rho3*(-x10 + cos(t)) + rho4*(rho3*(-x9 + sin(t)) - x10 + cos(t)) - x9)/(a11*x12 + g + rho5*(0.5 - x12) + rho6*(rho5*(0.5*t - x11) - x12 + 0.5) + 0.5*t - x11))**2)*cos(sin(0.5*t)) + ((-1.0*sin(sin(0.5*t))*cos(0.5*t) + cos(0.5*t)*cos(sin(0.5*t)))*(sin(sin(0.5*t)) + cos(sin(0.5*t)))/2 + (-2*rho1*cos(t) + 2*rho2*(-rho1*sin(t) - cos(t)) + 2*(-rho3*sin(t) + rho4*(rho3*cos(t) - sin(t)))/(a11*x12 + g + rho5*(0.5 - x12) + rho6*(rho5*(0.5*t - x11) - x12 + 0.5) + 0.5*t - x11) + 2*(-0.5*rho5*rho6 - 0.5)*(a10*x10 + rho3*(-x10 + cos(t)) + rho4*(rho3*(-x9 + sin(t)) - x10 + cos(t)) - x9)/(a11*x12 + g + rho5*(0.5 - x12) + rho6*(rho5*(0.5*t - x11) - x12 + 0.5) + 0.5*t - x11)**2)*(a9*x8 + rho1*(-x8 - sin(t)) + rho2*(rho1*(-x7 + cos(t)) - x8 - sin(t)) - x7 + (a10*x10 + rho3*(-x10 + cos(t)) + rho4*(rho3*(-x9 + sin(t)) - x10 + cos(t)) - x9)/(a11*x12 + g + rho5*(0.5 - x12) + rho6*(rho5*(0.5*t - x11) - x12 + 0.5) + 0.5*t - x11))/2)*(a11*x12 + g + rho5*(0.5 - x12) + rho6*(rho5*(0.5*t - x11) - x12 + 0.5) + 0.5*t - x11)*cos(sin(0.5*t))/sqrt((sin(sin(0.5*t)) + cos(sin(0.5*t)))**2 + (a9*x8 + rho1*(-x8 - sin(t)) + rho2*(rho1*(-x7 + cos(t)) - x8 - sin(t)) - x7 + (a10*x10 + rho3*(-x10 + cos(t)) + rho4*(rho3*(-x9 + sin(t)) - x10 + cos(t)) - x9)/(a11*x12 + g + rho5*(0.5 - x12) + rho6*(rho5*(0.5*t - x11) - x12 + 0.5) + 0.5*t - x11))**2) - 0.5*sqrt((sin(sin(0.5*t)) + cos(sin(0.5*t)))**2 + (a9*x8 + rho1*(-x8 - sin(t)) + rho2*(rho1*(-x7 + cos(t)) - x8 - sin(t)) - x7 + (a10*x10 + rho3*(-x10 + cos(t)) + rho4*(rho3*(-x9 + sin(t)) - x10 + cos(t)) - x9)/(a11*x12 + g + rho5*(0.5 - x12) + rho6*(rho5*(0.5*t - x11) - x12 + 0.5) + 0.5*t - x11))**2)*(a11*x12 + g + rho5*(0.5 - x12) + rho6*(rho5*(0.5*t - x11) - x12 + 0.5) + 0.5*t - x11)*sin(sin(0.5*t))*cos(0.5*t))*((-rho3*sin(t) + rho4*(rho3*cos(t) - sin(t)))*(sin(sin(0.5*t)) + cos(sin(0.5*t))) + (0.5*rho5*rho6 + 0.5)*(-a9*x8 - rho1*(-x8 - sin(t)) - rho2*(rho1*(-x7 + cos(t)) - x8 - sin(t)) + x7 - (a10*x10 + rho3*(-x10 + cos(t)) + rho4*(rho3*(-x9 + sin(t)) - x10 + cos(t)) - x9)/(a11*x12 + g + rho5*(0.5 - x12) + rho6*(rho5*(0.5*t - x11) - x12 + 0.5) + 0.5*t - x11))*cos(sin(0.5*t)) + (-0.5*sin(sin(0.5*t))*cos(0.5*t) + 0.5*cos(0.5*t)*cos(sin(0.5*t)))*(a10*x10 + rho3*(-x10 + cos(t)) + rho4*(rho3*(-x9 + sin(t)) - x10 + cos(t)) - x9) + (rho1*cos(t) - rho2*(-rho1*sin(t) - cos(t)) - (-rho3*sin(t) + rho4*(rho3*cos(t) - sin(t)))/(a11*x12 + g + rho5*(0.5 - x12) + rho6*(rho5*(0.5*t - x11) - x12 + 0.5) + 0.5*t - x11) - (-0.5*rho5*rho6 - 0.5)*(a10*x10 + rho3*(-x10 + cos(t)) + rho4*(rho3*(-x9 + sin(t)) - x10 + cos(t)) - x9)/(a11*x12 + g + rho5*(0.5 - x12) + rho6*(rho5*(0.5*t - x11) - x12 + 0.5) + 0.5*t - x11)**2)*(a11*x12 + g + rho5*(0.5 - x12) + rho6*(rho5*(0.5*t - x11) - x12 + 0.5) + 0.5*t - x11)*cos(sin(0.5*t)) - 0.5*(-a9*x8 - rho1*(-x8 - sin(t)) - rho2*(rho1*(-x7 + cos(t)) - x8 - sin(t)) + x7 - (a10*x10 + rho3*(-x10 + cos(t)) + rho4*(rho3*(-x9 + sin(t)) - x10 + cos(t)) - x9)/(a11*x12 + g + rho5*(0.5 - x12) + rho6*(rho5*(0.5*t - x11) - x12 + 0.5) + 0.5*t - x11))*(a11*x12 + g + rho5*(0.5 - x12) + rho6*(rho5*(0.5*t - x11) - x12 + 0.5) + 0.5*t - x11)*sin(sin(0.5*t))*cos(0.5*t))/((-(sin(sin(0.5*t)) + cos(sin(0.5*t)))*(a10*x10 + rho3*(-x10 + cos(t)) + rho4*(rho3*(-x9 + sin(t)) - x10 + cos(t)) - x9) + (a9*x8 + rho1*(-x8 - sin(t)) + rho2*(rho1*(-x7 + cos(t)) - x8 - sin(t)) - x7 + (a10*x10 + rho3*(-x10 + cos(t)) + rho4*(rho3*(-x9 + sin(t)) - x10 + cos(t)) - x9)/(a11*x12 + g + rho5*(0.5 - x12) + rho6*(rho5*(0.5*t - x11) - x12 + 0.5) + 0.5*t - x11))*(a11*x12 + g + rho5*(0.5 - x12) + rho6*(rho5*(0.5*t - x11) - x12 + 0.5) + 0.5*t - x11)*cos(sin(0.5*t)))**2 + ((sin(sin(0.5*t)) + cos(sin(0.5*t)))**2 + (a9*x8 + rho1*(-x8 - sin(t)) + rho2*(rho1*(-x7 + cos(t)) - x8 - sin(t)) - x7 + (a10*x10 + rho3*(-x10 + cos(t)) + rho4*(rho3*(-x9 + sin(t)) - x10 + cos(t)) - x9)/(a11*x12 + g + rho5*(0.5 - x12) + rho6*(rho5*(0.5*t - x11) - x12 + 0.5) + 0.5*t - x11))**2)*(a11*x12 + g + rho5*(0.5 - x12) + rho6*(rho5*(0.5*t - x11) - x12 + 0.5) + 0.5*t - x11)**2*cos(sin(0.5*t))**2) + sqrt((sin(sin(0.5*t)) + cos(sin(0.5*t)))**2 + (a9*x8 + rho1*(-x8 - sin(t)) + rho2*(rho1*(-x7 + cos(t)) - x8 - sin(t)) - x7 + (a10*x10 + rho3*(-x10 + cos(t)) + rho4*(rho3*(-x9 + sin(t)) - x10 + cos(t)) - x9)/(a11*x12 + g + rho5*(0.5 - x12) + rho6*(rho5*(0.5*t - x11) - x12 + 0.5) + 0.5*t - x11))**2)*(-(rho5*rho6 + 1.0)*((sin(sin(0.5*t)) + cos(sin(0.5*t)))**2 + (a9*x8 + rho1*(-x8 - sin(t)) + rho2*(rho1*(-x7 + cos(t)) - x8 - sin(t)) - x7 + (a10*x10 + rho3*(-x10 + cos(t)) + rho4*(rho3*(-x9 + sin(t)) - x10 + cos(t)) - x9)/(a11*x12 + g + rho5*(0.5 - x12) + rho6*(rho5*(0.5*t - x11) - x12 + 0.5) + 0.5*t - x11))**2)*(a11*x12 + g + rho5*(0.5 - x12) + rho6*(rho5*(0.5*t - x11) - x12 + 0.5) + 0.5*t - x11)*cos(sin(0.5*t))**2 - ((-1.0*sin(sin(0.5*t))*cos(0.5*t) + cos(0.5*t)*cos(sin(0.5*t)))*(sin(sin(0.5*t)) + cos(sin(0.5*t))) + (-2*rho1*cos(t) + 2*rho2*(-rho1*sin(t) - cos(t)) + 2*(-rho3*sin(t) + rho4*(rho3*cos(t) - sin(t)))/(a11*x12 + g + rho5*(0.5 - x12) + rho6*(rho5*(0.5*t - x11) - x12 + 0.5) + 0.5*t - x11) + 2*(-0.5*rho5*rho6 - 0.5)*(a10*x10 + rho3*(-x10 + cos(t)) + rho4*(rho3*(-x9 + sin(t)) - x10 + cos(t)) - x9)/(a11*x12 + g + rho5*(0.5 - x12) + rho6*(rho5*(0.5*t - x11) - x12 + 0.5) + 0.5*t - x11)**2)*(a9*x8 + rho1*(-x8 - sin(t)) + rho2*(rho1*(-x7 + cos(t)) - x8 - sin(t)) - x7 + (a10*x10 + rho3*(-x10 + cos(t)) + rho4*(rho3*(-x9 + sin(t)) - x10 + cos(t)) - x9)/(a11*x12 + g + rho5*(0.5 - x12) + rho6*(rho5*(0.5*t - x11) - x12 + 0.5) + 0.5*t - x11)))*(a11*x12 + g + rho5*(0.5 - x12) + rho6*(rho5*(0.5*t - x11) - x12 + 0.5) + 0.5*t - x11)**2*cos(sin(0.5*t))**2 - (-(sin(sin(0.5*t)) + cos(sin(0.5*t)))*(a10*x10 + rho3*(-x10 + cos(t)) + rho4*(rho3*(-x9 + sin(t)) - x10 + cos(t)) - x9) + (a9*x8 + rho1*(-x8 - sin(t)) + rho2*(rho1*(-x7 + cos(t)) - x8 - sin(t)) - x7 + (a10*x10 + rho3*(-x10 + cos(t)) + rho4*(rho3*(-x9 + sin(t)) - x10 + cos(t)) - x9)/(a11*x12 + g + rho5*(0.5 - x12) + rho6*(rho5*(0.5*t - x11) - x12 + 0.5) + 0.5*t - x11))*(a11*x12 + g + rho5*(0.5 - x12) + rho6*(rho5*(0.5*t - x11) - x12 + 0.5) + 0.5*t - x11)*cos(sin(0.5*t)))*(2*(-rho3*sin(t) + rho4*(rho3*cos(t) - sin(t)))*(-sin(sin(0.5*t)) - cos(sin(0.5*t))) + 2*(0.5*rho5*rho6 + 0.5)*(a9*x8 + rho1*(-x8 - sin(t)) + rho2*(rho1*(-x7 + cos(t)) - x8 - sin(t)) - x7 + (a10*x10 + rho3*(-x10 + cos(t)) + rho4*(rho3*(-x9 + sin(t)) - x10 + cos(t)) - x9)/(a11*x12 + g + rho5*(0.5 - x12) + rho6*(rho5*(0.5*t - x11) - x12 + 0.5) + 0.5*t - x11))*cos(sin(0.5*t)) + 2*(0.5*sin(sin(0.5*t))*cos(0.5*t) - 0.5*cos(0.5*t)*cos(sin(0.5*t)))*(a10*x10 + rho3*(-x10 + cos(t)) + rho4*(rho3*(-x9 + sin(t)) - x10 + cos(t)) - x9) + 2*(-rho1*cos(t) + rho2*(-rho1*sin(t) - cos(t)) + (-rho3*sin(t) + rho4*(rho3*cos(t) - sin(t)))/(a11*x12 + g + rho5*(0.5 - x12) + rho6*(rho5*(0.5*t - x11) - x12 + 0.5) + 0.5*t - x11) + (-0.5*rho5*rho6 - 0.5)*(a10*x10 + rho3*(-x10 + cos(t)) + rho4*(rho3*(-x9 + sin(t)) - x10 + cos(t)) - x9)/(a11*x12 + g + rho5*(0.5 - x12) + rho6*(rho5*(0.5*t - x11) - x12 + 0.5) + 0.5*t - x11)**2)*(a11*x12 + g + rho5*(0.5 - x12) + rho6*(rho5*(0.5*t - x11) - x12 + 0.5) + 0.5*t - x11)*cos(sin(0.5*t)) - 1.0*(a9*x8 + rho1*(-x8 - sin(t)) + rho2*(rho1*(-x7 + cos(t)) - x8 - sin(t)) - x7 + (a10*x10 + rho3*(-x10 + cos(t)) + rho4*(rho3*(-x9 + sin(t)) - x10 + cos(t)) - x9)/(a11*x12 + g + rho5*(0.5 - x12) + rho6*(rho5*(0.5*t - x11) - x12 + 0.5) + 0.5*t - x11))*(a11*x12 + g + rho5*(0.5 - x12) + rho6*(rho5*(0.5*t - x11) - x12 + 0.5) + 0.5*t - x11)*sin(sin(0.5*t))*cos(0.5*t)) + 1.0*((sin(sin(0.5*t)) + cos(sin(0.5*t)))**2 + (a9*x8 + rho1*(-x8 - sin(t)) + rho2*(rho1*(-x7 + cos(t)) - x8 - sin(t)) - x7 + (a10*x10 + rho3*(-x10 + cos(t)) + rho4*(rho3*(-x9 + sin(t)) - x10 + cos(t)) - x9)/(a11*x12 + g + rho5*(0.5 - x12) + rho6*(rho5*(0.5*t - x11) - x12 + 0.5) + 0.5*t - x11))**2)*(a11*x12 + g + rho5*(0.5 - x12) + rho6*(rho5*(0.5*t - x11) - x12 + 0.5) + 0.5*t - x11)**2*sin(sin(0.5*t))*cos(0.5*t)*cos(sin(0.5*t)))*((-rho3*sin(t) + rho4*(rho3*cos(t) - sin(t)))*(-sin(sin(0.5*t)) - cos(sin(0.5*t))) + (0.5*rho5*rho6 + 0.5)*(a9*x8 + rho1*(-x8 - sin(t)) + rho2*(rho1*(-x7 + cos(t)) - x8 - sin(t)) - x7 + (a10*x10 + rho3*(-x10 + cos(t)) + rho4*(rho3*(-x9 + sin(t)) - x10 + cos(t)) - x9)/(a11*x12 + g + rho5*(0.5 - x12) + rho6*(rho5*(0.5*t - x11) - x12 + 0.5) + 0.5*t - x11))*cos(sin(0.5*t)) + (0.5*sin(sin(0.5*t))*cos(0.5*t) - 0.5*cos(0.5*t)*cos(sin(0.5*t)))*(a10*x10 + rho3*(-x10 + cos(t)) + rho4*(rho3*(-x9 + sin(t)) - x10 + cos(t)) - x9) + (-rho1*cos(t) + rho2*(-rho1*sin(t) - cos(t)) + (-rho3*sin(t) + rho4*(rho3*cos(t) - sin(t)))/(a11*x12 + g + rho5*(0.5 - x12) + rho6*(rho5*(0.5*t - x11) - x12 + 0.5) + 0.5*t - x11) + (-0.5*rho5*rho6 - 0.5)*(a10*x10 + rho3*(-x10 + cos(t)) + rho4*(rho3*(-x9 + sin(t)) - x10 + cos(t)) - x9)/(a11*x12 + g + rho5*(0.5 - x12) + rho6*(rho5*(0.5*t - x11) - x12 + 0.5) + 0.5*t - x11)**2)*(a11*x12 + g + rho5*(0.5 - x12) + rho6*(rho5*(0.5*t - x11) - x12 + 0.5) + 0.5*t - x11)*cos(sin(0.5*t)) - 0.5*(a9*x8 + rho1*(-x8 - sin(t)) + rho2*(rho1*(-x7 + cos(t)) - x8 - sin(t)) - x7 + (a10*x10 + rho3*(-x10 + cos(t)) + rho4*(rho3*(-x9 + sin(t)) - x10 + cos(t)) - x9)/(a11*x12 + g + rho5*(0.5 - x12) + rho6*(rho5*(0.5*t - x11) - x12 + 0.5) + 0.5*t - x11))*(a11*x12 + g + rho5*(0.5 - x12) + rho6*(rho5*(0.5*t - x11) - x12 + 0.5) + 0.5*t - x11)*sin(sin(0.5*t))*cos(0.5*t))*(a11*x12 + g + rho5*(0.5 - x12) + rho6*(rho5*(0.5*t - x11) - x12 + 0.5) + 0.5*t - x11)*cos(sin(0.5*t))/((-(sin(sin(0.5*t)) + cos(sin(0.5*t)))*(a10*x10 + rho3*(-x10 + cos(t)) + rho4*(rho3*(-x9 + sin(t)) - x10 + cos(t)) - x9) + (a9*x8 + rho1*(-x8 - sin(t)) + rho2*(rho1*(-x7 + cos(t)) - x8 - sin(t)) - x7 + (a10*x10 + rho3*(-x10 + cos(t)) + rho4*(rho3*(-x9 + sin(t)) - x10 + cos(t)) - x9)/(a11*x12 + g + rho5*(0.5 - x12) + rho6*(rho5*(0.5*t - x11) - x12 + 0.5) + 0.5*t - x11))*(a11*x12 + g + rho5*(0.5 - x12) + rho6*(rho5*(0.5*t - x11) - x12 + 0.5) + 0.5*t - x11)*cos(sin(0.5*t)))**2 + ((sin(sin(0.5*t)) + cos(sin(0.5*t)))**2 + (a9*x8 + rho1*(-x8 - sin(t)) + rho2*(rho1*(-x7 + cos(t)) - x8 - sin(t)) - x7 + (a10*x10 + rho3*(-x10 + cos(t)) + rho4*(rho3*(-x9 + sin(t)) - x10 + cos(t)) - x9)/(a11*x12 + g + rho5*(0.5 - x12) + rho6*(rho5*(0.5*t - x11) - x12 + 0.5) + 0.5*t - x11))**2)*(a11*x12 + g + rho5*(0.5 - x12) + rho6*(rho5*(0.5*t - x11) - x12 + 0.5) + 0.5*t - x11)**2*cos(sin(0.5*t))**2)**2\n",
        "\n",
        "  x3d_dot = (-0.5*sin(sin(0.5*t))*cos(0.5*t) + 0.5*cos(0.5*t)*cos(sin(0.5*t)))*(-a9*x8 - rho1*(-x8 - sin(t)) - rho2*(rho1*(-x7 + cos(t)) - x8 - sin(t)) + x7 - (a10*x10 + rho3*(-x10 + cos(t)) + rho4*(rho3*(-x9 + sin(t)) - x10 + cos(t)) - x9)/(a11*x12 + g + rho5*(0.5 - x12) + rho6*(rho5*(0.5*t - x11) - x12 + 0.5) + 0.5*t - x11))/((sin(sin(0.5*t)) + cos(sin(0.5*t)))**2 + (a9*x8 + rho1*(-x8 - sin(t)) + rho2*(rho1*(-x7 + cos(t)) - x8 - sin(t)) - x7 + (a10*x10 + rho3*(-x10 + cos(t)) + rho4*(rho3*(-x9 + sin(t)) - x10 + cos(t)) - x9)/(a11*x12 + g + rho5*(0.5 - x12) + rho6*(rho5*(0.5*t - x11) - x12 + 0.5) + 0.5*t - x11))**2) + (sin(sin(0.5*t)) + cos(sin(0.5*t)))*(-rho1*cos(t) + rho2*(-rho1*sin(t) - cos(t)) + (-rho3*sin(t) + rho4*(rho3*cos(t) - sin(t)))/(a11*x12 + g + rho5*(0.5 - x12) + rho6*(rho5*(0.5*t - x11) - x12 + 0.5) + 0.5*t - x11) + (-0.5*rho5*rho6 - 0.5)*(a10*x10 + rho3*(-x10 + cos(t)) + rho4*(rho3*(-x9 + sin(t)) - x10 + cos(t)) - x9)/(a11*x12 + g + rho5*(0.5 - x12) + rho6*(rho5*(0.5*t - x11) - x12 + 0.5) + 0.5*t - x11)**2)/((sin(sin(0.5*t)) + cos(sin(0.5*t)))**2 + (a9*x8 + rho1*(-x8 - sin(t)) + rho2*(rho1*(-x7 + cos(t)) - x8 - sin(t)) - x7 + (a10*x10 + rho3*(-x10 + cos(t)) + rho4*(rho3*(-x9 + sin(t)) - x10 + cos(t)) - x9)/(a11*x12 + g + rho5*(0.5 - x12) + rho6*(rho5*(0.5*t - x11) - x12 + 0.5) + 0.5*t - x11))**2)\n",
        "  x3d_ddot = (-(-1.0*sin(sin(0.5*t))*cos(0.5*t) + cos(0.5*t)*cos(sin(0.5*t)))*(sin(sin(0.5*t)) + cos(sin(0.5*t))) - (-2*rho1*cos(t) + 2*rho2*(-rho1*sin(t) - cos(t)) + 2*(-rho3*sin(t) + rho4*(rho3*cos(t) - sin(t)))/(a11*x12 + g + rho5*(0.5 - x12) + rho6*(rho5*(0.5*t - x11) - x12 + 0.5) + 0.5*t - x11) + 2*(-0.5*rho5*rho6 - 0.5)*(a10*x10 + rho3*(-x10 + cos(t)) + rho4*(rho3*(-x9 + sin(t)) - x10 + cos(t)) - x9)/(a11*x12 + g + rho5*(0.5 - x12) + rho6*(rho5*(0.5*t - x11) - x12 + 0.5) + 0.5*t - x11)**2)*(a9*x8 + rho1*(-x8 - sin(t)) + rho2*(rho1*(-x7 + cos(t)) - x8 - sin(t)) - x7 + (a10*x10 + rho3*(-x10 + cos(t)) + rho4*(rho3*(-x9 + sin(t)) - x10 + cos(t)) - x9)/(a11*x12 + g + rho5*(0.5 - x12) + rho6*(rho5*(0.5*t - x11) - x12 + 0.5) + 0.5*t - x11)))*(-0.5*sin(sin(0.5*t))*cos(0.5*t) + 0.5*cos(0.5*t)*cos(sin(0.5*t)))*(-a9*x8 - rho1*(-x8 - sin(t)) - rho2*(rho1*(-x7 + cos(t)) - x8 - sin(t)) + x7 - (a10*x10 + rho3*(-x10 + cos(t)) + rho4*(rho3*(-x9 + sin(t)) - x10 + cos(t)) - x9)/(a11*x12 + g + rho5*(0.5 - x12) + rho6*(rho5*(0.5*t - x11) - x12 + 0.5) + 0.5*t - x11))/((sin(sin(0.5*t)) + cos(sin(0.5*t)))**2 + (a9*x8 + rho1*(-x8 - sin(t)) + rho2*(rho1*(-x7 + cos(t)) - x8 - sin(t)) - x7 + (a10*x10 + rho3*(-x10 + cos(t)) + rho4*(rho3*(-x9 + sin(t)) - x10 + cos(t)) - x9)/(a11*x12 + g + rho5*(0.5 - x12) + rho6*(rho5*(0.5*t - x11) - x12 + 0.5) + 0.5*t - x11))**2)**2 + (-(-1.0*sin(sin(0.5*t))*cos(0.5*t) + cos(0.5*t)*cos(sin(0.5*t)))*(sin(sin(0.5*t)) + cos(sin(0.5*t))) - (-2*rho1*cos(t) + 2*rho2*(-rho1*sin(t) - cos(t)) + 2*(-rho3*sin(t) + rho4*(rho3*cos(t) - sin(t)))/(a11*x12 + g + rho5*(0.5 - x12) + rho6*(rho5*(0.5*t - x11) - x12 + 0.5) + 0.5*t - x11) + 2*(-0.5*rho5*rho6 - 0.5)*(a10*x10 + rho3*(-x10 + cos(t)) + rho4*(rho3*(-x9 + sin(t)) - x10 + cos(t)) - x9)/(a11*x12 + g + rho5*(0.5 - x12) + rho6*(rho5*(0.5*t - x11) - x12 + 0.5) + 0.5*t - x11)**2)*(a9*x8 + rho1*(-x8 - sin(t)) + rho2*(rho1*(-x7 + cos(t)) - x8 - sin(t)) - x7 + (a10*x10 + rho3*(-x10 + cos(t)) + rho4*(rho3*(-x9 + sin(t)) - x10 + cos(t)) - x9)/(a11*x12 + g + rho5*(0.5 - x12) + rho6*(rho5*(0.5*t - x11) - x12 + 0.5) + 0.5*t - x11)))*(sin(sin(0.5*t)) + cos(sin(0.5*t)))*(-rho1*cos(t) + rho2*(-rho1*sin(t) - cos(t)) + (-rho3*sin(t) + rho4*(rho3*cos(t) - sin(t)))/(a11*x12 + g + rho5*(0.5 - x12) + rho6*(rho5*(0.5*t - x11) - x12 + 0.5) + 0.5*t - x11) + (-0.5*rho5*rho6 - 0.5)*(a10*x10 + rho3*(-x10 + cos(t)) + rho4*(rho3*(-x9 + sin(t)) - x10 + cos(t)) - x9)/(a11*x12 + g + rho5*(0.5 - x12) + rho6*(rho5*(0.5*t - x11) - x12 + 0.5) + 0.5*t - x11)**2)/((sin(sin(0.5*t)) + cos(sin(0.5*t)))**2 + (a9*x8 + rho1*(-x8 - sin(t)) + rho2*(rho1*(-x7 + cos(t)) - x8 - sin(t)) - x7 + (a10*x10 + rho3*(-x10 + cos(t)) + rho4*(rho3*(-x9 + sin(t)) - x10 + cos(t)) - x9)/(a11*x12 + g + rho5*(0.5 - x12) + rho6*(rho5*(0.5*t - x11) - x12 + 0.5) + 0.5*t - x11))**2)**2 + (-0.5*sin(sin(0.5*t))*cos(0.5*t) + 0.5*cos(0.5*t)*cos(sin(0.5*t)))*(-rho1*cos(t) + rho2*(-rho1*sin(t) - cos(t)) + (-rho3*sin(t) + rho4*(rho3*cos(t) - sin(t)))/(a11*x12 + g + rho5*(0.5 - x12) + rho6*(rho5*(0.5*t - x11) - x12 + 0.5) + 0.5*t - x11) + (-0.5*rho5*rho6 - 0.5)*(a10*x10 + rho3*(-x10 + cos(t)) + rho4*(rho3*(-x9 + sin(t)) - x10 + cos(t)) - x9)/(a11*x12 + g + rho5*(0.5 - x12) + rho6*(rho5*(0.5*t - x11) - x12 + 0.5) + 0.5*t - x11)**2)/((sin(sin(0.5*t)) + cos(sin(0.5*t)))**2 + (a9*x8 + rho1*(-x8 - sin(t)) + rho2*(rho1*(-x7 + cos(t)) - x8 - sin(t)) - x7 + (a10*x10 + rho3*(-x10 + cos(t)) + rho4*(rho3*(-x9 + sin(t)) - x10 + cos(t)) - x9)/(a11*x12 + g + rho5*(0.5 - x12) + rho6*(rho5*(0.5*t - x11) - x12 + 0.5) + 0.5*t - x11))**2) + (-0.5*sin(sin(0.5*t))*cos(0.5*t) + 0.5*cos(0.5*t)*cos(sin(0.5*t)))*(rho1*cos(t) - rho2*(-rho1*sin(t) - cos(t)) - (-rho3*sin(t) + rho4*(rho3*cos(t) - sin(t)))/(a11*x12 + g + rho5*(0.5 - x12) + rho6*(rho5*(0.5*t - x11) - x12 + 0.5) + 0.5*t - x11) - (-0.5*rho5*rho6 - 0.5)*(a10*x10 + rho3*(-x10 + cos(t)) + rho4*(rho3*(-x9 + sin(t)) - x10 + cos(t)) - x9)/(a11*x12 + g + rho5*(0.5 - x12) + rho6*(rho5*(0.5*t - x11) - x12 + 0.5) + 0.5*t - x11)**2)/((sin(sin(0.5*t)) + cos(sin(0.5*t)))**2 + (a9*x8 + rho1*(-x8 - sin(t)) + rho2*(rho1*(-x7 + cos(t)) - x8 - sin(t)) - x7 + (a10*x10 + rho3*(-x10 + cos(t)) + rho4*(rho3*(-x9 + sin(t)) - x10 + cos(t)) - x9)/(a11*x12 + g + rho5*(0.5 - x12) + rho6*(rho5*(0.5*t - x11) - x12 + 0.5) + 0.5*t - x11))**2) + (sin(sin(0.5*t)) + cos(sin(0.5*t)))*(rho1*sin(t) + rho2*(-rho1*cos(t) + sin(t)) + 2*(-rho3*sin(t) + rho4*(rho3*cos(t) - sin(t)))*(-0.5*rho5*rho6 - 0.5)/(a11*x12 + g + rho5*(0.5 - x12) + rho6*(rho5*(0.5*t - x11) - x12 + 0.5) + 0.5*t - x11)**2 + (-rho3*cos(t) + rho4*(-rho3*sin(t) - cos(t)))/(a11*x12 + g + rho5*(0.5 - x12) + rho6*(rho5*(0.5*t - x11) - x12 + 0.5) + 0.5*t - x11) + (-1.0*rho5*rho6 - 1.0)*(-0.5*rho5*rho6 - 0.5)*(a10*x10 + rho3*(-x10 + cos(t)) + rho4*(rho3*(-x9 + sin(t)) - x10 + cos(t)) - x9)/(a11*x12 + g + rho5*(0.5 - x12) + rho6*(rho5*(0.5*t - x11) - x12 + 0.5) + 0.5*t - x11)**3)/((sin(sin(0.5*t)) + cos(sin(0.5*t)))**2 + (a9*x8 + rho1*(-x8 - sin(t)) + rho2*(rho1*(-x7 + cos(t)) - x8 - sin(t)) - x7 + (a10*x10 + rho3*(-x10 + cos(t)) + rho4*(rho3*(-x9 + sin(t)) - x10 + cos(t)) - x9)/(a11*x12 + g + rho5*(0.5 - x12) + rho6*(rho5*(0.5*t - x11) - x12 + 0.5) + 0.5*t - x11))**2) + (0.25*sin(0.5*t)*sin(sin(0.5*t)) - 0.25*sin(0.5*t)*cos(sin(0.5*t)) - 0.25*sin(sin(0.5*t))*cos(0.5*t)**2 - 0.25*cos(0.5*t)**2*cos(sin(0.5*t)))*(-a9*x8 - rho1*(-x8 - sin(t)) - rho2*(rho1*(-x7 + cos(t)) - x8 - sin(t)) + x7 - (a10*x10 + rho3*(-x10 + cos(t)) + rho4*(rho3*(-x9 + sin(t)) - x10 + cos(t)) - x9)/(a11*x12 + g + rho5*(0.5 - x12) + rho6*(rho5*(0.5*t - x11) - x12 + 0.5) + 0.5*t - x11))/((sin(sin(0.5*t)) + cos(sin(0.5*t)))**2 + (a9*x8 + rho1*(-x8 - sin(t)) + rho2*(rho1*(-x7 + cos(t)) - x8 - sin(t)) - x7 + (a10*x10 + rho3*(-x10 + cos(t)) + rho4*(rho3*(-x9 + sin(t)) - x10 + cos(t)) - x9)/(a11*x12 + g + rho5*(0.5 - x12) + rho6*(rho5*(0.5*t - x11) - x12 + 0.5) + 0.5*t - x11))**2)\n",
        "\n",
        "  x1_d = np.array([x1d,x1d_dot,x1d_ddot])\n",
        "  x3_d = np.array([x3d,x3d_dot,x3d_ddot])\n",
        "\n",
        "  U4 = ((-(sin(sin(0.5*t)) + cos(sin(0.5*t)))*(a10*x10 + rho3*(-x10 + cos(t)) + rho4*(rho3*(-x9 + sin(t)) - x10 + cos(t)) - x9) + (a9*x8 + rho1*(-x8 - sin(t)) + rho2*(rho1*(-x7 + cos(t)) - x8 - sin(t)) - x7 + (a10*x10 + rho3*(-x10 + cos(t)) + rho4*(rho3*(-x9 + sin(t)) - x10 + cos(t)) - x9)/(a11*x12 + g + rho5*(0.5 - x12) + rho6*(rho5*(0.5*t - x11) - x12 + 0.5) + 0.5*t - x11))*(a11*x12 + g + rho5*(0.5 - x12) + rho6*(rho5*(0.5*t - x11) - x12 + 0.5) + 0.5*t - x11)*cos(sin(0.5*t)))**2 + ((sin(sin(0.5*t)) + cos(sin(0.5*t)))**2 + (a9*x8 + rho1*(-x8 - sin(t)) + rho2*(rho1*(-x7 + cos(t)) - x8 - sin(t)) - x7 + (a10*x10 + rho3*(-x10 + cos(t)) + rho4*(rho3*(-x9 + sin(t)) - x10 + cos(t)) - x9)/(a11*x12 + g + rho5*(0.5 - x12) + rho6*(rho5*(0.5*t - x11) - x12 + 0.5) + 0.5*t - x11))**2)*(a11*x12 + g + rho5*(0.5 - x12) + rho6*(rho5*(0.5*t - x11) - x12 + 0.5) + 0.5*t - x11)**2*cos(sin(0.5*t))**2)/((sin(sin(0.5*t)) + cos(sin(0.5*t)))*cos(sin(0.5*t)))\n",
        "\n",
        "  x1d_data.append(x1d)\n",
        "  x3d_data.append(x3d)\n",
        "  U4_data.append(U4)\n",
        "  \n",
        "  return x1_d, x3_d, U4"
      ],
      "metadata": {
        "id": "ZyYDK-a7aIPh"
      },
      "execution_count": null,
      "outputs": []
    },
    {
      "cell_type": "markdown",
      "source": [
        "## Sliding Mode Controller for Attitude Trajectory Tracking Control"
      ],
      "metadata": {
        "id": "Z33C12cMCCPT"
      }
    },
    {
      "cell_type": "code",
      "source": [
        "def att_ctrl(states, x1d, x3d, psi_ref):\n",
        "  x1 = states[0]\n",
        "  x2 = states[1]\n",
        "  x3 = states[2]\n",
        "  x4 = states[3]\n",
        "  x5 = states[4]\n",
        "  x6 = states[5]\n",
        "  x7 = states[6]\n",
        "  x8 = states[7]\n",
        "  x9 = states[8]\n",
        "  x10 = states[9]\n",
        "  x11 = states[10]\n",
        "  x12 = states[11]\n",
        "\n",
        "  e1_dot = x1d[1] - x2\n",
        "  e1 = x1d[0] - x1\n",
        "  s1 = e1_dot + c1*e1\n",
        "  s11 = np.absolute(s1/e11)\n",
        "  if s11 <= 1:\n",
        "    u1 = s1\n",
        "  elif s11 > 1:\n",
        "    u1 = np.sign(s1)\n",
        "  U1 = x1d[2] + c1*e1_dot - (a1*x4*x6+a2*w_bar*x4-a3*x2) + k1*u1\n",
        "\n",
        "  e3 = x3d[0] - x3\n",
        "  e3_dot = x3d[1] - x4\n",
        "  s2 = e3_dot + c2*e3\n",
        "  s21 = np.absolute(s2/e21)\n",
        "  if s21 <= 1:\n",
        "    u2 = s2\n",
        "  elif s21 > 1:\n",
        "    u2 = np.sign(s2)\n",
        "  U2 = x3d[2] + c2*e3_dot - (a4*x2*x6+a5*w_bar*x2-a6*x4) + k2*u2\n",
        "\n",
        "  e5 = psi_ref[0] - x5\n",
        "  e5_dot = psi_ref[1] - x6\n",
        "  s3 = e5_dot + c3*e5\n",
        "  s31 = np.absolute(s2/e31)\n",
        "  if s31 <= 1:\n",
        "    u3 = s3\n",
        "  elif s31 > 1:\n",
        "    u3 = np.sign(s3)\n",
        "  U3 = psi_ref[2] + c3*e5_dot - (a7*x2*x4-a8*x6) + k3*u3\n",
        "\n",
        "  return U1, U2, U3"
      ],
      "metadata": {
        "id": "Ld5h25DHCLCg"
      },
      "execution_count": null,
      "outputs": []
    },
    {
      "cell_type": "markdown",
      "source": [
        "## Quadrotor Dynamics"
      ],
      "metadata": {
        "id": "qYivZCQ6zr-2"
      }
    },
    {
      "cell_type": "code",
      "source": [
        "def quad_dyna(t, y, x1d, x3d, psi_ref, v2, v4, v6):\n",
        "  x1 = y[0]\n",
        "  x2 = y[1]\n",
        "  x3 = y[2]\n",
        "  x4 = y[3]\n",
        "  x5 = y[4]\n",
        "  x6 = y[5]\n",
        "  x7 = y[6]\n",
        "  x8 = y[7]\n",
        "  x9 = y[8]\n",
        "  x10 = y[9]\n",
        "  x11 = y[10]\n",
        "  x12 = y[11]\n",
        "\n",
        "  # SMC included\n",
        "  e1_dot = x1d[1] - x2\n",
        "  e1 = x1d[0] - x1\n",
        "  s1 = e1_dot + c1*e1\n",
        "  s11 = np.absolute(s1/e11)\n",
        "  if s11 <= 1:\n",
        "    u1 = s1\n",
        "  elif s11 > 1:\n",
        "    u1 = np.sign(s1)\n",
        "  x1_dot = x2\n",
        "  x2_dot = x1d[2] + c1*e1_dot + k1*u1\n",
        "\n",
        "  # SMC included\n",
        "  e3 = x3d[0] - x3\n",
        "  e3_dot = x3d[1] - x4\n",
        "  s2 = e3_dot + c2*e3\n",
        "  s21 = np.absolute(s2/e21)\n",
        "  if s21 <= 1:\n",
        "    u2 = s2\n",
        "  elif s21 > 1:\n",
        "    u2 = np.sign(s2)\n",
        "  x3_dot = x4\n",
        "  x4_dot = x3d[2] + c2*e3_dot + k2*u2\n",
        "\n",
        "  # SMC included\n",
        "  e5 = psi_ref[0] - x5\n",
        "  e5_dot = psi_ref[1] - x6\n",
        "  s3 = e5_dot + c3*e5\n",
        "  s31 = np.absolute(s2/e31)\n",
        "  if s31 <= 1:\n",
        "    u3 = s3\n",
        "  elif s31 > 1:\n",
        "    u3 = np.sign(s3)\n",
        "  x5_dot = x6\n",
        "  x6_dot = psi_ref[2] + c3*e5_dot + k3*u3\n",
        "\n",
        "  # Backstepping SMC included\n",
        "  x7_dot = x8\n",
        "  x8_dot = v2 - a9*x8\n",
        "\n",
        "  # Backstepping SMC included\n",
        "  x9_dot = x10\n",
        "  x10_dot = v4 - a10*x10\n",
        "\n",
        "  # Backstepping SMC included\n",
        "  x11_dot = x12\n",
        "  x12_dot = -g + v6 - a11*x12\n",
        "\n",
        "  return x1_dot, x2_dot, x3_dot, x4_dot, x5_dot, x6_dot, x7_dot, x8_dot, x9_dot, x10_dot, x11_dot, x12_dot"
      ],
      "metadata": {
        "id": "1_mStFT8zuat"
      },
      "execution_count": null,
      "outputs": []
    },
    {
      "cell_type": "markdown",
      "source": [
        "## Solver"
      ],
      "metadata": {
        "id": "tX38c9-IOnnX"
      }
    },
    {
      "cell_type": "code",
      "source": [
        "def step(states, Ts, i):\n",
        "  x1 = states[0]\n",
        "  x2 = states[1]\n",
        "  x3 = states[2]\n",
        "  x4 = states[3]\n",
        "  x5 = states[4]\n",
        "  x6 = states[5]\n",
        "  x7 = states[6]\n",
        "  x8 = states[7]\n",
        "  x9 = states[8]\n",
        "  x10 = states[9]\n",
        "  x11 = states[10]\n",
        "  x12 = states[11]\n",
        "\n",
        "  x_ref, y_ref, z_ref, psi_ref = ref_traj(i/10)\n",
        "\n",
        "  v2, v4, v6 = pos_ctrl(states, x_ref, y_ref, z_ref)\n",
        "\n",
        "  x1d, x3d, U4 = art_invt(i/10, states)\n",
        "\n",
        "  U1, U2, U3 = att_ctrl(states, x1d, x3d, psi_ref)\n",
        "\n",
        "  U1_data.append(U1)\n",
        "  U2_data.append(U2)\n",
        "  U3_data.append(U3)\n",
        "\n",
        "  sol = solve_ivp(lambda t, y: quad_dyna(t, y, x1d, x3d, psi_ref, v2, v4, v6), [0, Ts], [x1, x2, x3, x4, x5, x6, x7, x8, x9, x10, x11, x12], t_eval=np.linspace( 0, Ts, 10))\n",
        "  states = sol.y[:,-1].T\n",
        "\n",
        "  return states"
      ],
      "metadata": {
        "id": "gTvY_7B5Oo6H"
      },
      "execution_count": null,
      "outputs": []
    },
    {
      "cell_type": "markdown",
      "source": [
        "## Simulation Setup"
      ],
      "metadata": {
        "id": "mpd5DflfNzqz"
      }
    },
    {
      "cell_type": "code",
      "source": [
        "# function to draw the quad\n",
        "def build_quad(x7, x9, x11, x1, x3, x5):\n",
        "  pn = x7\n",
        "  pe = x9\n",
        "  pd = -x11\n",
        "  phi = x1\n",
        "  theta = x3\n",
        "  psi = x5\n",
        "  \n",
        "  # define width to use as reference to construct the quad \n",
        "  w = 0.75\n",
        "\n",
        "  # defining the coordinates of the end points of the quad rotors\n",
        "  p1 = np.array([w, 0, 0]).T\n",
        "  p2 = np.array([-w, 0, 0]).T\n",
        "  p3 = np.array([0, w, 0]).T\n",
        "  p4 = np.array([0, -w, 0]).T\n",
        "\n",
        "  # converting the quadrotor points to interial frame and translating as per ned\n",
        "  R = rot_mat_bod2veh(phi, theta, psi) # rotational matrix\n",
        "  pos_ned = np.array([pn, pe, pd]).T #\n",
        "  p1r = np.matmul(R,p1)+pos_ned\n",
        "  p2r = np.matmul(R,p2)+pos_ned\n",
        "  p3r = np.matmul(R,p3)+pos_ned\n",
        "  p4r = np.matmul(R,p4)+pos_ned\n",
        "\n",
        "  # changing the orientation of ned wrt yxz\n",
        "  A = axes_ned2yxz()\n",
        "  p1ra = np.matmul(A,p1r)\n",
        "  p2ra = np.matmul(A,p2r)\n",
        "  p3ra = np.matmul(A,p3r)\n",
        "  p4ra = np.matmul(A,p4r)\n",
        "\n",
        "  # Rotor coordinates\n",
        "  rot_x = [p1ra[0], p2ra[0], p3ra[0], p4ra[0]]\n",
        "  rot_y = [p1ra[1], p2ra[1], p3ra[1], p4ra[1]]\n",
        "  rot_z = [p1ra[2], p2ra[2], p3ra[2], p4ra[2]]\n",
        "\n",
        "  # Arm coordinates\n",
        "  arm1_x = [p1ra[0], p2ra[0]]\n",
        "  arm1_y = [p1ra[1], p2ra[1]]\n",
        "  arm1_z = [p1ra[2], p2ra[2]]\n",
        "\n",
        "  arm2_x = [p3ra[0], p4ra[0]]\n",
        "  arm2_y = [p3ra[1], p4ra[1]]\n",
        "  arm2_z = [p3ra[2], p4ra[2]]\n",
        "\n",
        "  # defining the coordinates of the payload\n",
        "  v1 = np.array([-w/3,-w/3,w/2]).T\n",
        "  v2 = np.array([-w/3,-w/3,0]).T\n",
        "  v3 = np.array([w/3,-w/3,0]).T\n",
        "  v4 = np.array([w/3,-w/3,w/2]).T\n",
        "  v5 = np.array([w/3,w/3,w/2]).T\n",
        "  v6 = np.array([w/3,w/3,0]).T\n",
        "  v7 = np.array([-w/3,w/3,0]).T\n",
        "  v8 = np.array([-w/3,w/3,w/2]).T\n",
        "\n",
        "  # converting the payload points to interial frame and translating as per ned\n",
        "  v1r = np.matmul(R,v1)+pos_ned\n",
        "  v2r = np.matmul(R,v2)+pos_ned\n",
        "  v3r = np.matmul(R,v3)+pos_ned\n",
        "  v4r = np.matmul(R,v4)+pos_ned\n",
        "  v5r = np.matmul(R,v5)+pos_ned\n",
        "  v6r = np.matmul(R,v6)+pos_ned\n",
        "  v7r = np.matmul(R,v7)+pos_ned\n",
        "  v8r = np.matmul(R,v8)+pos_ned\n",
        "\n",
        "  # changing the orientation of ned wrt yxz\n",
        "  v1ra = np.matmul(A,v1r)\n",
        "  v2ra = np.matmul(A,v2r)\n",
        "  v3ra = np.matmul(A,v3r)\n",
        "  v4ra = np.matmul(A,v4r)\n",
        "  v5ra = np.matmul(A,v5r)\n",
        "  v6ra = np.matmul(A,v6r)\n",
        "  v7ra = np.matmul(A,v7r)\n",
        "  v8ra = np.matmul(A,v8r)\n",
        "\n",
        "  # defining the faces of the payload\n",
        "  f1_x=[v1ra[0], v2ra[0], v3ra[0], v4ra[0], v1ra[0]]\n",
        "  f1_y=[v1ra[1], v2ra[1], v3ra[1], v4ra[1], v1ra[1]]\n",
        "  f1_z=[v1ra[2], v2ra[2], v3ra[2], v4ra[2], v1ra[2]]\n",
        "  f2_x=[v5ra[0], v6ra[0], v7ra[0], v8ra[0], v5ra[0]]\n",
        "  f2_y=[v5ra[1], v6ra[1], v7ra[1], v8ra[1], v5ra[1]]\n",
        "  f2_z=[v5ra[2], v6ra[2], v7ra[2], v8ra[2], v5ra[2]]\n",
        "  f3_x=[v4ra[0], v5ra[0], v6ra[0], v3ra[0], v4ra[0]]\n",
        "  f3_y=[v4ra[1], v5ra[1], v6ra[1], v3ra[1], v4ra[1]]\n",
        "  f3_z=[v4ra[2], v5ra[2], v6ra[2], v3ra[2], v4ra[2]]\n",
        "  f4_x=[v1ra[0], v8ra[0], v7ra[0], v2ra[0], v1ra[0]]\n",
        "  f4_y=[v1ra[1], v8ra[1], v7ra[1], v2ra[1], v1ra[1]]\n",
        "  f4_z=[v1ra[2], v8ra[2], v7ra[2], v2ra[2], v1ra[2]]\n",
        "\n",
        "  return rot_x, rot_y, rot_z, arm1_x, arm1_y, arm1_z, arm2_x, arm2_y, arm2_z, f1_x, f1_y, f1_z, f2_x, f2_y, f2_z, f3_x, f3_y, f3_z, f4_x, f4_y, f4_z"
      ],
      "metadata": {
        "id": "-mqYffozOLWI"
      },
      "execution_count": null,
      "outputs": []
    },
    {
      "cell_type": "code",
      "source": [
        "# Intial Plot\n",
        "fig = plt.figure(figsize=(7,7), dpi=90)\n",
        "ax = fig.add_subplot(1, 1, 1, projection='3d')\n",
        "ax.set_xlim((-5, 5))            \n",
        "ax.set_ylim((-5, 5))\n",
        "ax.set_zlim((-5, 5))\n",
        "ax.set_xlabel('East(x)')\n",
        "ax.set_ylabel('North(y)')\n",
        "ax.set_zlabel('Down(z)')\n",
        "ax.set_title('Quadrotor Simulation (y:ref, k:true)')\n",
        "\n",
        "rot_x, rot_y, rot_z, arm1_x, arm1_y, arm1_z, arm2_x, arm2_y, arm2_z, f1_x, f1_y, f1_z, f2_x, f2_y, f2_z, f3_x, f3_y, f3_z, f4_x, f4_y, f4_z = build_quad(x7, x9, x11, x1, x3, x5)\n",
        "\n",
        "# Collecting data for trajectories and plots\n",
        "x7_data.append(x7)\n",
        "x9_data.append(x9)\n",
        "x11_data.append(x11)\n",
        "\n",
        "# Creatin handles for plotting and animation\n",
        "\n",
        "# payload\n",
        "face1, = ax.plot(f1_x, f1_y, f1_z, 'b', lw=1.1)\n",
        "face2, = ax.plot(f2_x, f2_y, f2_z, 'r', lw=1.1)\n",
        "face3, = ax.plot(f3_x, f3_y, f3_z, 'g', lw=1.1)\n",
        "face4, = ax.plot(f4_x, f4_y, f4_z, 'y', lw=1.1)\n",
        "\n",
        "# arms and rotors\n",
        "arm1, = ax.plot(arm1_x, arm1_y, arm1_z, 'r-', lw=1.5)\n",
        "arm2, = ax.plot(arm2_x, arm2_y, arm2_z, 'k-', lw=1.5)\n",
        "rotor, = ax.plot(rot_x, rot_y, rot_z, 'bo', ms = 2)\n",
        "\n",
        "# # trajectory\n",
        "traj, = ax.plot(x9_data, x7_data, x11_data, 'k:', lw=1)\n",
        "traj_ref, = ax.plot(y_r_data, x_r_data, z_r_data, 'y:', lw=1)"
      ],
      "metadata": {
        "id": "nxopoGlsN0VF"
      },
      "execution_count": null,
      "outputs": []
    },
    {
      "cell_type": "markdown",
      "source": [
        "## Simulation"
      ],
      "metadata": {
        "id": "AX-rVQngR5SV"
      }
    },
    {
      "cell_type": "code",
      "source": [
        "def drawframe(i):\n",
        "  global states\n",
        "  states = step(states, dt,i)\n",
        "  x1 = states[0]\n",
        "  x2 = states[1]\n",
        "  x3 = states[2]\n",
        "  x4 = states[3]\n",
        "  x5 = states[4]\n",
        "  x6 = states[5]\n",
        "  x7 = states[6]\n",
        "  x8 = states[7]\n",
        "  x9 = states[8]\n",
        "  x10 = states[9]\n",
        "  x11 = states[10]\n",
        "  x12 = states[11]\n",
        "\n",
        "  x1_data.append(x1)\n",
        "  x2_data.append(x2)\n",
        "  x3_data.append(x3)\n",
        "  x4_data.append(x4)\n",
        "  x5_data.append(x5)\n",
        "  x6_data.append(x6)\n",
        "  x7_data.append(x7)\n",
        "  x8_data.append(x8)\n",
        "  x9_data.append(x9)\n",
        "  x10_data.append(x10)\n",
        "  x11_data.append(x11)\n",
        "  x12_data.append(x12)\n",
        "\n",
        "  rot_x, rot_y, rot_z, arm1_x, arm1_y, arm1_z, arm2_x, arm2_y, arm2_z, f1_x, f1_y, f1_z, f2_x, f2_y, f2_z, f3_x, f3_y, f3_z, f4_x, f4_y, f4_z = build_quad(x7, x9, x11, x1, x3, x5)\n",
        "\n",
        "  face1.set_data(f1_x, f1_y)\n",
        "  face1.set_3d_properties(f1_z)\n",
        "  face2.set_data(f2_x, f2_y)\n",
        "  face2.set_3d_properties(f2_z)\n",
        "  face3.set_data(f3_x, f3_y)\n",
        "  face3.set_3d_properties(f3_z)\n",
        "  face4.set_data(f4_x, f4_y)\n",
        "  face4.set_3d_properties(f3_z)\n",
        "\n",
        "  arm1.set_data(arm1_x, arm1_y)\n",
        "  arm1.set_3d_properties(arm1_z)\n",
        "  arm2.set_data(arm2_x, arm2_y)\n",
        "  arm2.set_3d_properties(arm2_z)\n",
        "  rotor.set_data(rot_x, rot_y)\n",
        "  rotor.set_3d_properties(rot_z)\n",
        "\n",
        "  traj.set_data(x9_data, x7_data)\n",
        "  traj.set_3d_properties(x11_data)\n",
        "\n",
        "  traj_ref.set_data(y_r_data, x_r_data)\n",
        "  traj_ref.set_3d_properties(z_r_data)\n",
        "\n",
        "  return face1, face2, face3, face4, arm1, arm2, rotor, traj, traj_ref"
      ],
      "metadata": {
        "id": "j6RvJXWERyRF"
      },
      "execution_count": null,
      "outputs": []
    },
    {
      "cell_type": "code",
      "source": [
        "# Creating the Simulatiom\n",
        "ax.set_xlabel('East(x)')\n",
        "ax.set_ylabel('North(y)')\n",
        "ax.set_zlabel('Down(z)')\n",
        "ax.set_title('Quadrotor Simulation (y:ref, k:true)')\n",
        "# blit=True re-draws only the parts that have changed.\n",
        "anim = animation.FuncAnimation(fig, drawframe, frames=frames, interval=40, blit=True)"
      ],
      "metadata": {
        "id": "KA-QP-AoSdSg"
      },
      "execution_count": null,
      "outputs": []
    },
    {
      "cell_type": "code",
      "source": [
        "# Converting the animated result into a  html5 video for visualization\n",
        "HTML(anim.to_html5_video())"
      ],
      "metadata": {
        "colab": {
          "base_uri": "https://localhost:8080/",
          "height": 651
        },
        "id": "DrQrtmDxSfqK",
        "outputId": "c5972bd8-a162-4ade-d732-39d16a59aef9"
      },
      "execution_count": null,
      "outputs": []
    },
    {
      "cell_type": "markdown",
      "source": [
        "## Plots"
      ],
      "metadata": {
        "id": "h0ZPaYIvcqvu"
      }
    },
    {
      "cell_type": "code",
      "source": [
        "fig1 = plt.figure(figsize=(35,35))\n",
        "ax1 = fig1.add_subplot(4, 3, 1)\n",
        "ax1.set_xlabel('Time Step')\n",
        "ax1.set_ylabel('Pn')\n",
        "ax1.set_title('State Plot of North (b:true, r:ref)')\n",
        "pn1 = ax1.plot(range(len(x7_data)),x7_data, label = \"North\")\n",
        "pn1 = ax1.plot(range(len(x_r_data)),x_r_data, 'r:', label = \"North_ref\")\n",
        "ax1.legend(loc = \"best\")\n",
        "\n",
        "ax2 = fig1.add_subplot(4, 3, 2)\n",
        "ax2.set_xlabel('Time Step')\n",
        "ax2.set_ylabel('Pe')\n",
        "ax2.set_title('State Plot of East (b:true, r:ref)')\n",
        "pn1 = ax2.plot(range(len(x9_data)),x9_data, label = \"East\")\n",
        "pn1 = ax2.plot(range(len(y_r_data)),y_r_data, 'r:', label = \"East_ref\")\n",
        "ax2.legend(loc = \"best\")\n",
        "\n",
        "ax3 = fig1.add_subplot(4, 3, 3)\n",
        "ax3.set_xlabel('Time Step')\n",
        "ax3.set_ylabel('Pd')\n",
        "ax3.set_title('State Plot of Down (b:true, r:ref)')\n",
        "pn1 = ax3.plot(range(len(x11_data)),x11_data, label = \"Down\")\n",
        "pn1 = ax3.plot(range(len(z_r_data)),z_r_data, 'r:', label = \"Down_ref\")\n",
        "ax3.legend(loc = \"best\")\n",
        "\n",
        "ax4 = fig1.add_subplot(4, 3, 4)\n",
        "ax4.set_xlabel('Time Step')\n",
        "ax4.set_ylabel('Phi')\n",
        "ax4.set_title('State Plot of Phi (b:true, r:ref)')\n",
        "pn1 = ax4.plot(range(len(x1_data)),x1_data, label = \"Phi\")\n",
        "pn1 = ax4.plot(range(len(x1d_data)),x1d_data, 'r:', label = \"Phi_d\")\n",
        "ax4.legend(loc = \"best\")\n",
        "\n",
        "ax5 = fig1.add_subplot(4, 3, 5)\n",
        "ax5.set_xlabel('Time Step')\n",
        "ax5.set_ylabel('Theta')\n",
        "ax5.set_title('State Plot of Theta (b:true, r:ref)')\n",
        "pn1 = ax5.plot(range(len(x3_data)),x3_data, label = \"Theta\")\n",
        "pn1 = ax5.plot(range(len(x3d_data)),x3d_data, 'r:', label = \"Theta_d\")\n",
        "ax5.legend(loc = \"best\")\n",
        "\n",
        "ax6 = fig1.add_subplot(4, 3, 6)\n",
        "ax6.set_xlabel('Time Step')\n",
        "ax6.set_ylabel('Psi')\n",
        "ax6.set_title('State Plot of Psi (b:true, r:ref)')\n",
        "pn1 = ax6.plot(range(len(x5_data)),x5_data, label = \"Psi\")\n",
        "pn1 = ax6.plot(range(len(psi_r_data)),psi_r_data, 'r:', label = \"Psi_ref\")\n",
        "ax6.legend(loc = \"best\")\n",
        "\n",
        "ax7 = fig1.add_subplot(4, 3, 7)\n",
        "ax7.set_xlabel('Time Step')\n",
        "ax7.set_ylabel('U1')\n",
        "ax7.set_title('Plot of U1 (b:true, r:ref)')\n",
        "pn1 = ax7.plot(range(len(U1_data)),U1_data, label = \"U1\")\n",
        "ax7.legend(loc = \"best\")\n",
        "\n",
        "ax8 = fig1.add_subplot(4, 3, 8)\n",
        "ax8.set_xlabel('Time Step')\n",
        "ax8.set_ylabel('U2')\n",
        "ax8.set_title('Plot of U2 (b:true, r:ref)')\n",
        "pn1 = ax8.plot(range(len(U2_data)),U2_data, label = \"U2\")\n",
        "ax8.legend(loc = \"best\")\n",
        "\n",
        "ax9 = fig1.add_subplot(4, 3, 9)\n",
        "ax9.set_xlabel('Time Step')\n",
        "ax9.set_ylabel('U3')\n",
        "ax9.set_title('Plot of U3 (b:true, r:ref)')\n",
        "pn1 = ax9.plot(range(len(U3_data)),U3_data, label = \"U3\")\n",
        "ax9.legend(loc = \"best\")\n",
        "\n",
        "ax10 = fig1.add_subplot(4, 3, 10)\n",
        "ax10.set_xlabel('Time Step')\n",
        "ax10.set_ylabel('U4')\n",
        "ax10.set_title('Plot of U4 (b:true, r:ref)')\n",
        "pn1 = ax10.plot(range(len(U4_data)),U4_data, label = \"U4\")\n",
        "ax10.legend(loc = \"best\")\n",
        "\n",
        "ax11 = fig1.add_subplot(4, 3, 11, projection='3d')\n",
        "face1 = ax11.plot(x7_data, x9_data, x11_data, 'b', label = \"Traj\")\n",
        "face2 = ax11.plot(x_r_data, y_r_data, z_r_data, 'r:', label = \"Ref_Traj\")\n",
        "ax.set_xlabel('East(x)')\n",
        "ax11.set_ylabel('North(y)')\n",
        "ax11.set_zlabel('Down(z)')\n",
        "ax11.set_title('Quadrotor Simulation (r:ref, b:true)')\n",
        "ax11.legend(loc = \"best\")"
      ],
      "metadata": {
        "colab": {
          "base_uri": "https://localhost:8080/",
          "height": 950
        },
        "id": "ivAJloTOcsJB",
        "outputId": "09ceaee9-80b1-4895-fbe1-4f895c7a86db"
      },
      "execution_count": null,
      "outputs": []
    },
    {
      "cell_type": "code",
      "source": [
        "fig2 = plt.figure(figsize=(7,7), dpi=90)\n",
        "ax = fig2.add_subplot(1, 1, 1, projection='3d')\n",
        "face1 = ax.plot(x7_data, x9_data, x11_data, 'b', label = \"Traj\")\n",
        "face2 = ax.plot(x_r_data, y_r_data, z_r_data, 'r:', label = \"Ref_Traj\")\n",
        "ax.set_xlabel('East(x)')\n",
        "ax.set_ylabel('North(y)')\n",
        "ax.set_zlabel('Down(z)')\n",
        "ax.set_title('Quadrotor Simulation (r:ref, b:true)')\n",
        "ax.legend(loc = \"best\")"
      ],
      "metadata": {
        "id": "zHxWmre4i3LO"
      },
      "execution_count": null,
      "outputs": []
    },
    {
      "cell_type": "markdown",
      "source": [
        "# end"
      ],
      "metadata": {
        "id": "bybR2iJ9jZ4J"
      }
    }
  ]
}
