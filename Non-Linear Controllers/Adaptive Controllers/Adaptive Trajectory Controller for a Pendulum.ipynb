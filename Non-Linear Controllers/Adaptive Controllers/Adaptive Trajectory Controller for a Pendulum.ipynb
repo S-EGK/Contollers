{
  "nbformat": 4,
  "nbformat_minor": 0,
  "metadata": {
    "colab": {
      "provenance": [],
      "collapsed_sections": [],
      "toc_visible": true,
      "authorship_tag": "ABX9TyN+6sZhgGTe4ioyLMTUvPsJ",
      "include_colab_link": true
    },
    "kernelspec": {
      "name": "python3",
      "display_name": "Python 3"
    },
    "language_info": {
      "name": "python"
    }
  },
  "cells": [
    {
      "cell_type": "markdown",
      "metadata": {
        "id": "view-in-github",
        "colab_type": "text"
      },
      "source": [
        "<a href=\"https://colab.research.google.com/github/S-EGK/Contollers/blob/main/Non-Linear%20Controllers/Adaptive%20Controllers/Adaptive%20Trajectory%20Controller%20for%20a%20Pendulum.ipynb\" target=\"_parent\"><img src=\"https://colab.research.google.com/assets/colab-badge.svg\" alt=\"Open In Colab\"/></a>"
      ]
    },
    {
      "cell_type": "markdown",
      "source": [
        "# Assignment 5 Problem 14.2\n",
        "## Srikanth EGK\n",
        "### M13998009"
      ],
      "metadata": {
        "id": "4t8CyfQFZU_O"
      }
    },
    {
      "cell_type": "markdown",
      "source": [
        "## Libraries"
      ],
      "metadata": {
        "id": "fxZjwPJ1Zig1"
      }
    },
    {
      "cell_type": "code",
      "execution_count": null,
      "metadata": {
        "id": "8qIqQ3vKZQJ1"
      },
      "outputs": [],
      "source": [
        "# importing libraries\n",
        "from math import cos, sin\n",
        "import numpy as np\n",
        "from random import random\n",
        "import scipy.signal as signal\n",
        "import scipy.linalg as linalg\n",
        "from mpl_toolkits.mplot3d import Axes3D\n",
        "from scipy.integrate import solve_ivp\n",
        "import matplotlib.pyplot as plt\n",
        "from matplotlib import animation\n",
        "from matplotlib.patches import Circle"
      ]
    },
    {
      "cell_type": "markdown",
      "source": [
        "## Parameters"
      ],
      "metadata": {
        "id": "D3G_kHFLZ4uw"
      }
    },
    {
      "cell_type": "markdown",
      "source": [
        "### Simulation Parameters"
      ],
      "metadata": {
        "id": "5au4w348Zppj"
      }
    },
    {
      "cell_type": "code",
      "source": [
        "dt = 0.1\n",
        "Tfinal = 40\n",
        "Ts = dt\n",
        "Tsteps = Tfinal/Ts # number of frames\n",
        "frames = int(Tsteps)"
      ],
      "metadata": {
        "id": "kWvuN3c2ZvwP"
      },
      "execution_count": null,
      "outputs": []
    },
    {
      "cell_type": "markdown",
      "source": [
        "### System Parameters"
      ],
      "metadata": {
        "id": "9UeXS21EZ_zC"
      }
    },
    {
      "cell_type": "code",
      "source": [
        "# States\n",
        "x1 = 0.01\n",
        "x2 = 1\n",
        "a_hat = 0\n",
        "\n",
        "states = np.array([x1, x2, a_hat])\n",
        "\n",
        "a = 2\n",
        "gamma = 0.5\n",
        "k1 = 2"
      ],
      "metadata": {
        "id": "dQTc8AWTaQiv"
      },
      "execution_count": null,
      "outputs": []
    },
    {
      "cell_type": "markdown",
      "source": [
        "### Datat Collection and Plot Parameters"
      ],
      "metadata": {
        "id": "edbp7yW0fsAD"
      }
    },
    {
      "cell_type": "code",
      "source": [
        "# Data Collectors\n",
        "f_data = []\n",
        "x1_data = []\n",
        "x2_data = []\n",
        "a_hat_data = []\n",
        "a_data = []\n",
        "psi_r_data = []\n",
        "psi_r_dot_data = []\n",
        "\n",
        "# Animation Parameters\n",
        "rod_x = [0, sin(x1)]\n",
        "rod_y = [0, -cos(x1)]\n",
        "\n",
        "fig = plt.figure(figsize = (10,5))\n",
        "ax1 = plt.subplot(1,1,1)\n",
        "ax1.set_xlim((-10,10))\n",
        "ax1.set_ylim((-3,3))\n",
        "\n",
        "rod, = ax1.plot(rod_x, rod_y, 'b', lw = 2)\n",
        "bob, = ax1.plot(sin(x1), -cos(x1), 'g', marker = 'o', ms = 10)"
      ],
      "metadata": {
        "id": "dOWTDeBlfyV3"
      },
      "execution_count": null,
      "outputs": []
    },
    {
      "cell_type": "code",
      "source": [
        "def anipts(x1):\n",
        "  rod_x = [0, sin(x1)]\n",
        "  rod_y = [0, -cos(x1)]\n",
        "  bob_x, bob_y = sin(x1), -cos(x1)\n",
        "\n",
        "  return rod_x, rod_y, bob_x, bob_y"
      ],
      "metadata": {
        "id": "Mpr7Abw_iWmB"
      },
      "execution_count": null,
      "outputs": []
    },
    {
      "cell_type": "markdown",
      "source": [
        "## Dynamics"
      ],
      "metadata": {
        "id": "SUkTH3OpariK"
      }
    },
    {
      "cell_type": "code",
      "source": [
        "def dyna(t,y,f,ref):\n",
        "  x1 = y[0]\n",
        "  x2 = y[1]\n",
        "  a_hat = y[2]\n",
        "  psi_r_dot = ref[1]\n",
        "  psi_r_ddot = ref[2]\n",
        "  \n",
        "  u = f\n",
        "  \n",
        "  x1_dot = x2\n",
        "  x2_dot = -a*(x2 + psi_r_dot)*np.absolute((x2 + psi_r_dot)) - psi_r_ddot + u\n",
        "  a_hat_dot = gamma*(x2 + k1*x1)*(x2 + psi_r_dot)*np.absolute((x2 + psi_r_dot))\n",
        "\n",
        "  return x1_dot, x2_dot, a_hat_dot"
      ],
      "metadata": {
        "id": "Cg53HnQdav_6"
      },
      "execution_count": null,
      "outputs": []
    },
    {
      "cell_type": "markdown",
      "source": [
        "## Reference Trajectory"
      ],
      "metadata": {
        "id": "7QkCqs7mvbVx"
      }
    },
    {
      "cell_type": "code",
      "source": [
        "def ref_traj(i):\n",
        "  w = np.pi/20\n",
        "  psi_r = sin(w*i)\n",
        "  psi_r_dot = w*cos(w*i)\n",
        "  psi_r_ddot = w*w*sin(w*i)\n",
        "\n",
        "  ref = np.array([psi_r, psi_r_dot, psi_r_ddot])\n",
        "\n",
        "  return ref"
      ],
      "metadata": {
        "id": "nMHXsJXMvhGF"
      },
      "execution_count": null,
      "outputs": []
    },
    {
      "cell_type": "markdown",
      "source": [
        "## Adaptive Controller"
      ],
      "metadata": {
        "id": "_Ux-C2T3drSQ"
      }
    },
    {
      "cell_type": "code",
      "source": [
        "def adap_ctrl(y, ref):\n",
        "  x1 = y[0]\n",
        "  x2 = y[1]\n",
        "  a_hat = y[2]\n",
        "  psi_r_dot = ref[1]\n",
        "  psi_r_ddot = ref[2]\n",
        "\n",
        "  u = a_hat*(x2 + psi_r_dot)*np.absolute((x2 + psi_r_dot)) - k1*x2 - x1 + psi_r_ddot - 0.5*(x2+k1*x1)\n",
        "  return u"
      ],
      "metadata": {
        "id": "-pCMe9VvdwLD"
      },
      "execution_count": null,
      "outputs": []
    },
    {
      "cell_type": "markdown",
      "source": [
        "## Solver"
      ],
      "metadata": {
        "id": "ym8X6poJe7Tj"
      }
    },
    {
      "cell_type": "code",
      "source": [
        "def step(states, dt,i):\n",
        "  x1 = states[0]\n",
        "  x2 = states[1]\n",
        "\n",
        "  ref = ref_traj(i)\n",
        "\n",
        "  f = adap_ctrl(states, ref)\n",
        "  f_data.append(f)\n",
        "\n",
        "  sol = solve_ivp(lambda t,y: dyna(t,y,f,ref), [0,dt], [x1, x2, a_hat], t_eval = np.linspace(0,dt,100))\n",
        "  states = sol.y[:,-1].T\n",
        "\n",
        "  return states, ref"
      ],
      "metadata": {
        "id": "qdAw9Lcae-bx"
      },
      "execution_count": null,
      "outputs": []
    },
    {
      "cell_type": "markdown",
      "source": [
        "## Iterating"
      ],
      "metadata": {
        "id": "uNweiImcgRgs"
      }
    },
    {
      "cell_type": "code",
      "source": [
        "def drawframe(i):\n",
        "  global states\n",
        "  states, ref = step(states, dt,i)\n",
        "  x1 = states[0]\n",
        "  x2 = states[1]\n",
        "  a_hat = states[2]\n",
        "  psi_r = ref[0]\n",
        "  psi_r_dot = ref[1]\n",
        "\n",
        "  x1_data.append(states[0]+ref[0])\n",
        "  x2_data.append(states[1]+ref[1])\n",
        "  a_hat_data.append(states[2])\n",
        "  psi_r_data.append(ref[0])\n",
        "  psi_r_dot_data.append(ref[1])\n",
        "  a_data.append(a)\n",
        "\n",
        "  rod_x, rod_y, bob_x, bob_y = anipts(states[0]+ref[0])\n",
        "\n",
        "  rod.set_data(rod_x, rod_y)\n",
        "  bob.set_data(bob_x, bob_y)\n",
        "\n",
        "  return rod, bob"
      ],
      "metadata": {
        "id": "ii15C792gUgi"
      },
      "execution_count": null,
      "outputs": []
    },
    {
      "cell_type": "markdown",
      "source": [
        "## Animation"
      ],
      "metadata": {
        "id": "qirfo7rPjKLh"
      }
    },
    {
      "cell_type": "code",
      "source": [
        "from matplotlib import animation\n",
        "# blit=True re-draws only the parts that have changed.\n",
        "anim = animation.FuncAnimation(fig, drawframe, frames=frames, interval=40, blit=True)"
      ],
      "metadata": {
        "id": "pn1cDXFHjJOP"
      },
      "execution_count": null,
      "outputs": []
    },
    {
      "cell_type": "code",
      "source": [
        "from IPython.display import HTML\n",
        "HTML(anim.to_html5_video())"
      ],
      "metadata": {
        "id": "QX4QgZBpjQaY"
      },
      "execution_count": null,
      "outputs": []
    },
    {
      "cell_type": "markdown",
      "source": [
        "## Plots"
      ],
      "metadata": {
        "id": "bNn9e_fPkX4s"
      }
    },
    {
      "cell_type": "code",
      "source": [
        "fig1 = plt.figure(figsize=(17,22), dpi=90)\n",
        "\n",
        "ax1 = fig1.add_subplot(4, 3, 1)\n",
        "ax1.set_xlabel('Time Step')\n",
        "ax1.set_ylabel('x1')\n",
        "ax1.set_title('State Plot of x1')\n",
        "x11 = ax1.plot(range(len(x1_data)),x1_data, label='x1')\n",
        "r1 = ax1.plot(range(len(psi_r_data)),psi_r_data, 'r:', label='x1_ref')\n",
        "ax1.legend(loc = \"best\")\n",
        "\n",
        "ax2 = fig1.add_subplot(4, 3, 2)\n",
        "ax2.set_xlabel('Time Step')\n",
        "ax2.set_ylabel('x2')\n",
        "ax2.set_title('State Plot of x2')\n",
        "x21 = ax2.plot(range(len(x2_data)),x2_data, label='x2')\n",
        "r21 = ax2.plot(range(len(psi_r_dot_data)),psi_r_dot_data, 'r:', label='x2_ref')\n",
        "ax2.legend(loc = \"best\")\n",
        "\n",
        "ax3 = fig1.add_subplot(4, 3, 3)\n",
        "ax3.set_xlabel('x1')\n",
        "ax3.set_ylabel('x2')\n",
        "ax3.set_title('x1 - x2')\n",
        "x1x21 = ax3.plot(x1_data,x2_data, label='x1-x2')\n",
        "rr1 = ax3.plot(psi_r_data,psi_r_dot_data, 'r:', label='x1_ref - x2_ref')\n",
        "ax3.legend(loc = \"best\")\n",
        "\n",
        "ax4 = fig1.add_subplot(4, 3, 4)\n",
        "ax4.set_xlabel('Time Step')\n",
        "ax4.set_ylabel('f')\n",
        "ax4.set_title('f vs time step')\n",
        "f1 = ax4.plot(range(len(f_data)),f_data, label='input')\n",
        "ax4.legend(loc = \"best\")\n",
        "\n",
        "ax5 = fig1.add_subplot(4, 3, 5)\n",
        "ax5.set_xlabel('Time Step')\n",
        "ax5.set_ylabel('a')\n",
        "ax5.set_title('a vs time step')\n",
        "a1 = ax5.plot(range(len(a_data)),a_data, label='a')\n",
        "aa1 = ax5.plot(range(len(a_hat_data)),a_hat_data, 'r:', label='a_hat')\n",
        "ax5.legend(loc = \"best\")"
      ],
      "metadata": {
        "id": "MeEg5MUAkaKT"
      },
      "execution_count": null,
      "outputs": []
    }
  ]
}